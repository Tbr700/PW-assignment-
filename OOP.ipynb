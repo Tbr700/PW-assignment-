{
  "nbformat": 4,
  "nbformat_minor": 0,
  "metadata": {
    "colab": {
      "provenance": []
    },
    "kernelspec": {
      "name": "python3",
      "display_name": "Python 3"
    },
    "language_info": {
      "name": "python"
    }
  },
  "cells": [
    {
      "cell_type": "code",
      "execution_count": null,
      "metadata": {
        "id": "RCiXysQeCjED"
      },
      "outputs": [],
      "source": [
        "\"\"\"\"Create a parent class Animal with a method speak() that prints a generic message. Create a child class Dog\n",
        "that overrides the speak() method to print \"Bark!\".\"\"\"\"\"\n",
        "class Animal:\n",
        "    def speak(self):\n",
        "        print(\"The animal makes a sound.\")\n",
        "\n",
        "class Dog(Animal):\n",
        "    def speak(self):\n",
        "        print(\"Bark!\")\n",
        "\n",
        "\n",
        "a = Animal()\n",
        "a.speak()\n",
        "b = Dog()\n",
        "b.speak()"
      ]
    },
    {
      "cell_type": "code",
      "execution_count": null,
      "metadata": {
        "colab": {
          "base_uri": "https://localhost:8080/"
        },
        "id": "LpxjOpJx3hIj",
        "outputId": "8e5edd0b-e7fa-4aee-f435-7a79744eff14"
      },
      "outputs": [
        {
          "output_type": "stream",
          "name": "stdout",
          "text": [
            "The animal makes a sound.\n",
            "Bark!\n"
          ]
        }
      ],
      "source": [
        "\"\"\"\"Create a parent class Animal with a method speak() that prints a generic message. Create a child class Dog\n",
        "that overrides the speak() method to print \"Bark!\".\"\"\"\"\"\n",
        "class Animal:\n",
        "    def speak(self):\n",
        "        print(\"The animal makes a sound.\")\n",
        "\n",
        "class Dog(Animal):\n",
        "    def speak(self):\n",
        "        print(\"Bark!\")\n",
        "\n",
        "\n",
        "a = Animal()\n",
        "a.speak()\n",
        "b = Dog()\n",
        "b.speak()"
      ]
    },
    {
      "cell_type": "code",
      "source": [],
      "metadata": {
        "id": "m_V4qmPgF-T-"
      },
      "execution_count": null,
      "outputs": []
    },
    {
      "cell_type": "code",
      "source": [
        "''' Write a program to create an abstract class Shape with a method area(). Derive classes Circle and Rectangle\n",
        "from it and implement the area() method in both'''\n",
        "\n",
        "from abc import ABC, abstractmethod\n",
        "import math\n",
        "\n",
        "# Abstract base class\n",
        "class Shape(ABC):\n",
        "    @abstractmethod\n",
        "    def area(self):\n",
        "        pass\n",
        "\n",
        "# Derived class for Circle\n",
        "class Circle(Shape):\n",
        "    def __init__(self, radius):\n",
        "        self.radius = radius\n",
        "\n",
        "    def area(self):\n",
        "        return math.pi * (self.radius ** 2)\n",
        "\n",
        "# Derived class for Rectangle\n",
        "class Rectangle(Shape):\n",
        "    def __init__(self, width, height):\n",
        "        self.width = width\n",
        "        self.height = height\n",
        "\n",
        "    def area(self):\n",
        "        return self.width * self.height\n",
        "\n",
        "# Example usage:\n",
        "c = Circle(5)\n",
        "print(\"Circle area:\", c.area())\n",
        "\n",
        "r = Rectangle(4, 6)\n",
        "print(\"Rectangle area:\", r.area())\n"
      ],
      "metadata": {
        "colab": {
          "base_uri": "https://localhost:8080/"
        },
        "id": "I875mbEC3_Tz",
        "outputId": "aeadd109-60e8-4cb5-c87d-e6557cb990f8"
      },
      "execution_count": null,
      "outputs": [
        {
          "output_type": "stream",
          "name": "stdout",
          "text": [
            "Circle area: 78.53981633974483\n",
            "Rectangle area: 24\n"
          ]
        }
      ]
    },
    {
      "cell_type": "code",
      "source": [],
      "metadata": {
        "id": "Tzt95fdhGLPA"
      },
      "execution_count": null,
      "outputs": []
    },
    {
      "cell_type": "code",
      "source": [
        "''' Implement a multi-level inheritance scenario where a class Vehicle has an attribute type. Derive a class Car\n",
        "and further derive a class ElectricCar that adds a battery attribute.'''\n",
        "\n",
        "class Vehicle:\n",
        "    def __init__(self, type):\n",
        "        self.type = type\n",
        "class Car(Vehicle):\n",
        "    def __init__(self, type, brand):\n",
        "        super().__init__(type)\n",
        "        self.brand = brand\n",
        "class ElectricCar(Car):\n",
        "    def __init__(self, type, brand, battery):\n",
        "        super().__init__(type, brand)\n",
        "        self.battery = battery\n",
        "\n",
        "    def display_info(self):\n",
        "        print(f\"Type: {self.type}\")\n",
        "        print(f\"Brand: {self.brand}\")\n",
        "        print(f\"Battery: {self.battery}\")\n",
        "\n",
        "\n",
        "ecar = ElectricCar('Four Wheeler', 'Tesla', '100 kWh')\n",
        "ecar.display_info()\n"
      ],
      "metadata": {
        "colab": {
          "base_uri": "https://localhost:8080/"
        },
        "id": "TaNNudPa5hwA",
        "outputId": "138553ae-fc89-4d61-dbcf-b0a7be4aa7d4"
      },
      "execution_count": null,
      "outputs": [
        {
          "output_type": "stream",
          "name": "stdout",
          "text": [
            "Type: Four Wheeler\n",
            "Brand: Tesla\n",
            "Battery: 100 kWh\n"
          ]
        }
      ]
    },
    {
      "cell_type": "code",
      "source": [],
      "metadata": {
        "id": "hOk4KQheGixf"
      },
      "execution_count": null,
      "outputs": []
    },
    {
      "cell_type": "code",
      "source": [
        "''' Demonstrate polymorphism by creating a base class Bird with a method fly(). Create two derived classes\n",
        "Sparrow and Penguin that override the fly() method.'''\n",
        "\n",
        "class Bird:\n",
        "    def fly(self):\n",
        "        print(\"This bird can fly.\")\n",
        "\n",
        "class Sparrow(Bird):\n",
        "    def fly(self):\n",
        "        print(\"Sparrow flies high in the sky.\")\n",
        "\n",
        "class Penguin(Bird):\n",
        "    def fly(self):\n",
        "        print(\"Penguins cannot fly, but they swim well.\")\n",
        "\n",
        "birds = [Sparrow(), Penguin()]\n",
        "\n",
        "for bird in birds:\n",
        "    bird.fly()\n"
      ],
      "metadata": {
        "colab": {
          "base_uri": "https://localhost:8080/"
        },
        "id": "zIsFYZw66HLl",
        "outputId": "3896068f-5214-4c6e-900c-f73c1bed3ab9"
      },
      "execution_count": null,
      "outputs": [
        {
          "output_type": "stream",
          "name": "stdout",
          "text": [
            "Sparrow flies high in the sky.\n",
            "Penguins cannot fly, but they swim well.\n"
          ]
        }
      ]
    },
    {
      "cell_type": "code",
      "source": [
        "'''  Write a program to demonstrate encapsulation by creating a class BankAccount with private attributes\n",
        "balance and methods to deposit, withdraw, and check balance '''\n",
        "\n",
        "class BankAccount:\n",
        "    def __init__(self, initial_balance=0):\n",
        "        self.__balance = initial_balance\n",
        "\n",
        "    def deposit(self, amount):\n",
        "        if amount > 0:\n",
        "            self.__balance += amount\n",
        "            print(f\"Deposited: {amount}\")\n",
        "        else:\n",
        "            print(\"Invalid deposit amount.\")\n",
        "\n",
        "    def withdraw(self, amount):\n",
        "        if 0 < amount <= self.__balance:\n",
        "            self.__balance -= amount\n",
        "            print(f\"Withdrew: {amount}\")\n",
        "        else:\n",
        "            print(\"Insufficient balance or invalid amount.\")\n",
        "\n",
        "    def check_balance(self):\n",
        "        print(f\"Current balance: {self.__balance}\")\n",
        "\n",
        "account = BankAccount(100)\n",
        "account.deposit(50)\n",
        "account.withdraw(30)\n",
        "account.check_balance()\n",
        "\n"
      ],
      "metadata": {
        "colab": {
          "base_uri": "https://localhost:8080/"
        },
        "id": "xWwBeDjBE8j4",
        "outputId": "b65c6261-c89e-4e63-8055-46df74d0c3ba"
      },
      "execution_count": null,
      "outputs": [
        {
          "output_type": "stream",
          "name": "stdout",
          "text": [
            "Deposited: 50\n",
            "Withdrew: 30\n",
            "Current balance: 120\n"
          ]
        }
      ]
    },
    {
      "cell_type": "code",
      "source": [
        "'''. Demonstrate runtime polymorphism using a method play() in a base class Instrument. Derive classes Guitar\n",
        "and Piano that implement their own version of play().'''\n",
        "# Base class\n",
        "class Instrument:\n",
        "    def play(self):\n",
        "        print(\"The instrument is playing.\")\n",
        "\n",
        "# Derived class Guitar\n",
        "class Guitar(Instrument):\n",
        "    def play(self):\n",
        "        print(\"Playing the Guitar: Strum strum!\")\n",
        "\n",
        "# Derived class Piano\n",
        "class Piano(Instrument):\n",
        "    def play(self):\n",
        "        print(\"Playing the Piano: Plink plonk!\")\n",
        "\n",
        "# List of instruments\n",
        "instruments = [Guitar(), Piano()]\n",
        "\n",
        "# Polymorphism demonstration\n",
        "for instrument in instruments:\n",
        "    instrument.play()\n",
        "\n"
      ],
      "metadata": {
        "colab": {
          "base_uri": "https://localhost:8080/"
        },
        "id": "fNPKR_gtC4XB",
        "outputId": "b213018f-0e57-4542-8b2c-4cb0dcba8677"
      },
      "execution_count": null,
      "outputs": [
        {
          "output_type": "stream",
          "name": "stdout",
          "text": [
            "Playing the Guitar: Strum strum!\n",
            "Playing the Piano: Plink plonk!\n"
          ]
        }
      ]
    },
    {
      "cell_type": "code",
      "source": [
        "''' Create a class MathOperations with a class method add_numbers() to add two numbers and a static\n",
        "method subtract_numbers() to subtract two numbers'''\n",
        "class MathOperations:\n",
        "    @classmethod\n",
        "    def add_numbers(cls, a, b):\n",
        "        return a + b\n",
        "\n",
        "    @staticmethod\n",
        "    def subtract_numbers(a, b):\n",
        "        return a - b\n",
        "\n",
        "\n",
        "sum_result = MathOperations.add_numbers(10, 5)\n",
        "print(f\"Sum: {sum_result}\")\n",
        "\n",
        "difference_result = MathOperations.subtract_numbers(10, 5)\n",
        "print(f\"Difference: {difference_result}\")\n",
        "\n"
      ],
      "metadata": {
        "colab": {
          "base_uri": "https://localhost:8080/"
        },
        "id": "2svWAFeuR-NQ",
        "outputId": "e06eb1f1-2ea4-44cc-d91b-dff74461549b"
      },
      "execution_count": null,
      "outputs": [
        {
          "output_type": "stream",
          "name": "stdout",
          "text": [
            "Sum: 15\n",
            "Difference: 5\n"
          ]
        }
      ]
    },
    {
      "cell_type": "code",
      "source": [
        "''' Implement a class Person with a class method to count the total number of persons created.'''\n",
        "class Person:\n",
        "    count = 0\n",
        "\n",
        "    def __init__(self, name):\n",
        "        self.name = name\n",
        "        Person.count += 1\n",
        "\n",
        "    @classmethod\n",
        "    def get_total_persons(cls):\n",
        "        return cls.count\n",
        "\n",
        "person1 = Person(\"Alice\")\n",
        "person2 = Person(\"Bob\")\n",
        "person3 = Person(\"Charlie\")\n",
        "\n",
        "total_persons = Person.get_total_persons()\n",
        "print(f\"Total persons created: {total_persons}\")"
      ],
      "metadata": {
        "colab": {
          "base_uri": "https://localhost:8080/"
        },
        "id": "DlJRZDDnGUAr",
        "outputId": "309bb177-5516-4ad3-ca0c-dc3101e0f74f"
      },
      "execution_count": null,
      "outputs": [
        {
          "output_type": "stream",
          "name": "stdout",
          "text": [
            "Total persons created: 3\n"
          ]
        }
      ]
    },
    {
      "cell_type": "code",
      "source": [
        "'''Write a class Fraction with attributes numerator and denominator. Override the str method to display the fraction as \"numerator/denominator\"'''\n",
        "class Fraction:\n",
        "    def __init__(self, numerator, denominator):\n",
        "        self.numerator = numerator\n",
        "        self.denominator = denominator\n",
        "\n",
        "    def __str__(self):\n",
        "        return f\"{self.numerator}/{self.denominator}\"\n",
        "\n",
        "\n",
        "f = Fraction(3, 4)\n",
        "print(f)\n"
      ],
      "metadata": {
        "colab": {
          "base_uri": "https://localhost:8080/"
        },
        "id": "Yv2im21JHJ1Y",
        "outputId": "aaff23fa-12c4-4fe6-f528-98ee4ac1ce13"
      },
      "execution_count": null,
      "outputs": [
        {
          "output_type": "stream",
          "name": "stdout",
          "text": [
            "3/4\n"
          ]
        }
      ]
    },
    {
      "cell_type": "code",
      "source": [
        "'''. Demonstrate operator overloading by creating a class Vector and overriding the add method to add two vectors'''\n",
        "class Vector:\n",
        "    def __init__(self, x, y):\n",
        "        self.x = x\n",
        "        self.y = y\n",
        "\n",
        "    def __add__(self, other):\n",
        "        return Vector(self.x + other.x, self.y + other.y)\n",
        "\n",
        "    def __str__(self):\n",
        "        return f\"({self.x}, {self.y})\"\n",
        "v1 = Vector(1, 2)\n",
        "v2 = Vector(3, 4)\n",
        "v3 = v1 + v2\n",
        "print(v3)\n"
      ],
      "metadata": {
        "colab": {
          "base_uri": "https://localhost:8080/"
        },
        "id": "htR4b1YnW9Tu",
        "outputId": "033d0a76-def3-4e2f-a42d-2b7ecf2a8931"
      },
      "execution_count": null,
      "outputs": [
        {
          "output_type": "stream",
          "name": "stdout",
          "text": [
            "(4, 6)\n"
          ]
        }
      ]
    },
    {
      "cell_type": "code",
      "source": [
        "#Create a class Person with attributes name and age. Add a method greet() that prints \"Hello, my name is {name} and I am {age} years old.\n",
        "class person:\n",
        "    def __init__(self,name,age):\n",
        "        self.name=name\n",
        "        self.age=age\n",
        "    def greet(self):\n",
        "        print(f\"Hello, my name is {self.name} and I am {self.age} years old.\")\n",
        "person1=person(\"Modi\",25)\n",
        "person1.greet()\n",
        "\n"
      ],
      "metadata": {
        "colab": {
          "base_uri": "https://localhost:8080/"
        },
        "id": "723GMfd1ai66",
        "outputId": "770fd956-a50f-4ca2-8c57-93a8d72f1865"
      },
      "execution_count": null,
      "outputs": [
        {
          "output_type": "stream",
          "name": "stdout",
          "text": [
            "Hello, my name is Modi and I am 25 years old.\n"
          ]
        }
      ]
    },
    {
      "cell_type": "code",
      "source": [
        "# Implement a class Student with attributes name and grades. Create a method average_grade() to compute the average of the grades\n",
        "class Student:\n",
        "    def __init__(self,name,grades):\n",
        "        self.name=name\n",
        "        self.grades=grades\n",
        "    def average_grade(self):\n",
        "        return sum(self.grades)/len(self.grades)\n",
        "Student=Student(\"Trump\",[90,80,70])\n",
        "print(Student.average_grade())\n"
      ],
      "metadata": {
        "colab": {
          "base_uri": "https://localhost:8080/"
        },
        "id": "9Q8PITZub1wx",
        "outputId": "d2df1054-6439-4c47-9401-5471d75c9891"
      },
      "execution_count": null,
      "outputs": [
        {
          "output_type": "stream",
          "name": "stdout",
          "text": [
            "80.0\n"
          ]
        }
      ]
    },
    {
      "cell_type": "code",
      "source": [
        "# Create a class Rectangle with methods set_dimensions() to set the dimensions and area() to calculate the area.\n",
        "class Rectangle:\n",
        "    def __init__(self):\n",
        "        self.length = 0\n",
        "        self.width = 0\n",
        "\n",
        "    def set_dimensions(self, length, width):\n",
        "        self.length = length\n",
        "        self.width = width\n",
        "\n",
        "    def area(self):\n",
        "        return self.length * self.width\n",
        "\n",
        "# Example usage:\n",
        "rect = Rectangle()\n",
        "rect.set_dimensions(5, 3)\n",
        "print(\"Area of rectangle:\", rect.area())  # Output: Area of rectangle: 15\n",
        "\n",
        "\n",
        "\n",
        "\n",
        "\n"
      ],
      "metadata": {
        "colab": {
          "base_uri": "https://localhost:8080/"
        },
        "id": "IKg3m2NdcafP",
        "outputId": "b0a656a3-ecb2-4477-8ce9-1fc7a8d45b18"
      },
      "execution_count": null,
      "outputs": [
        {
          "output_type": "stream",
          "name": "stdout",
          "text": [
            "Area of rectangle: 300\n"
          ]
        }
      ]
    },
    {
      "cell_type": "code",
      "source": [
        "''' Create a class Employee with a method calculate_salary() that computes the salary based on hours worked\n",
        "and hourly rate. Create a derived class Manager that adds a bonus to the salary'''\n",
        "class Employee:\n",
        "    def __init__(self, hours_worked, hourly_rate):\n",
        "        self.hours_worked = hours_worked\n",
        "        self.hourly_rate = hourly_rate\n",
        "\n",
        "    def calculate_salary(self):\n",
        "        return self.hours_worked * self.hourly_rate\n",
        "\n",
        "class Manager(Employee):\n",
        "    def __init__(self, hours_worked, hourly_rate, bonus):\n",
        "        super().__init__(hours_worked, hourly_rate)\n",
        "        self.bonus = bonus\n",
        "\n",
        "    def calculate_salary(self):\n",
        "        base_salary = super().calculate_salary()\n",
        "        return base_salary + self.bonus\n",
        "\n",
        "if __name__ == \"__main__\":\n",
        "    emp = Employee(40, 20)\n",
        "    print(f\"Employee salary: {emp.calculate_salary()}\")\n",
        "\n",
        "    mgr = Manager(40, 20, 500)\n",
        "    print(f\"Manager salary: {mgr.calculate_salary()}\")\n"
      ],
      "metadata": {
        "colab": {
          "base_uri": "https://localhost:8080/"
        },
        "id": "ENb__gb0gw5S",
        "outputId": "736d05b7-441b-4d61-c9b9-2a37ecdfb8bd"
      },
      "execution_count": null,
      "outputs": [
        {
          "output_type": "stream",
          "name": "stdout",
          "text": [
            "Employee salary: 800\n",
            "Manager salary: 1300\n"
          ]
        }
      ]
    },
    {
      "cell_type": "code",
      "source": [
        "'''Create a class Product with attributes name, price, and quantity. Implement a method total_price() that\n",
        "calculates the total price of the product.'''\n",
        "class Product:\n",
        "    def __init__(self, name, price, quantity):\n",
        "        self.name = name\n",
        "        self.price = price\n",
        "        self.quantity = quantity\n",
        "\n",
        "    def total_price(self):\n",
        "        return self.price * self.quantity\n",
        "product=Product(\"Apple\",10,2)\n",
        "print(product.total_price())"
      ],
      "metadata": {
        "colab": {
          "base_uri": "https://localhost:8080/"
        },
        "id": "wV2pFPtuytUa",
        "outputId": "500e2d2e-35c5-4d43-95d3-5631f9805dab"
      },
      "execution_count": null,
      "outputs": [
        {
          "output_type": "stream",
          "name": "stdout",
          "text": [
            "20\n"
          ]
        }
      ]
    },
    {
      "cell_type": "code",
      "source": [
        "''' Create a class Animal with an abstract method sound(). Create two derived classes Cow and Sheep that\n",
        "implement the sound() method.'''\n",
        "from abc import ABC, abstractmethod\n",
        "\n",
        "class Animal(ABC):\n",
        "    @abstractmethod\n",
        "    def sound(self):\n",
        "        pass\n",
        "\n",
        "class Cow(Animal):\n",
        "    def sound(self):\n",
        "        print(\"Moo!\")\n",
        "\n",
        "class Sheep(Animal):\n",
        "    def sound(self):\n",
        "        print(\"Baa!\")\n",
        "\n",
        "\n",
        "if __name__ == \"__main__\":\n",
        "    cow = Cow()\n",
        "    cow.sound()\n",
        "\n",
        "    sheep = Sheep()\n",
        "    sheep.sound()"
      ],
      "metadata": {
        "colab": {
          "base_uri": "https://localhost:8080/"
        },
        "id": "U4Nthnq3Op0N",
        "outputId": "d8a193a6-e402-42f7-af9d-f2615ee1c7a3"
      },
      "execution_count": 1,
      "outputs": [
        {
          "output_type": "stream",
          "name": "stdout",
          "text": [
            "Moo!\n",
            "Baa!\n"
          ]
        }
      ]
    },
    {
      "cell_type": "code",
      "source": [
        "'''. Create a class Book with attributes title, author, and year_published. Add a method get_book_info() that\n",
        "returns a formatted string with the book's details.'''\n",
        "class Book:\n",
        "    def __init__(self, title, author, year_published):\n",
        "        self.title = title\n",
        "        self.author = author\n",
        "        self.year_published = year_published\n",
        "\n",
        "    def get_book_info(self):\n",
        "        return f\"Title: {self.title}, Author: {self.author}, Year Published: {self.year_published}\"\n",
        "\n",
        "\n",
        "if __name__ == \"__main__\":\n",
        "    b = Book(\"1984\", \"George Orwell\", 1949)\n",
        "    print(b.get_book_info())\n",
        ""
      ],
      "metadata": {
        "colab": {
          "base_uri": "https://localhost:8080/"
        },
        "id": "7uRFtmNcO7Yl",
        "outputId": "ae513fa6-cf09-429c-c00c-65619b36c15c"
      },
      "execution_count": 2,
      "outputs": [
        {
          "output_type": "stream",
          "name": "stdout",
          "text": [
            "Title: 1984, Author: George Orwell, Year Published: 1949\n"
          ]
        }
      ]
    },
    {
      "cell_type": "code",
      "source": [
        "''' Create a class House with attributes address and price. Create a derived class Mansion that adds an\n",
        "attribute number_of_rooms'''\n",
        "class House:\n",
        "    def __init__(self, address, price):\n",
        "        self.address = address\n",
        "        self.price = price\n",
        "\n",
        "class Mansion(House):\n",
        "    def __init__(self, address, price, number_of_rooms):\n",
        "        super().__init__(address, price)\n",
        "        self.number_of_rooms = number_of_rooms\n",
        "if __name__ == \"__main__\":\n",
        "    h = House(\"123 Main St\", 250000)\n",
        "    print(f\"House Address: {h.address}, Price: {h.price}\")\n",
        "\n",
        "    m = Mansion(\"456 Grand Ave\", 1500000, 12)\n",
        "    print(f\"Mansion Address: {m.address}, Price: {m.price}, Rooms: {m.number_of_rooms}\")"
      ],
      "metadata": {
        "colab": {
          "base_uri": "https://localhost:8080/"
        },
        "id": "pQrWAAxCPKuz",
        "outputId": "aafdd1e4-dfb5-41fe-8704-cf00e23f318c"
      },
      "execution_count": 3,
      "outputs": [
        {
          "output_type": "stream",
          "name": "stdout",
          "text": [
            "House Address: 123 Main St, Price: 250000\n",
            "Mansion Address: 456 Grand Ave, Price: 1500000, Rooms: 12\n"
          ]
        }
      ]
    },
    {
      "cell_type": "markdown",
      "source": [
        "# What is Object-Oriented Programming (OOP)?\n",
        "Object-Oriented Programming (OOP) is a programming paradigm that organizes software design around objects, rather than functions or logic. An object is an instance of a class, which is a blueprint that defines the structure and behavior (data and methods) of that object.\n",
        "\n",
        "#What is a class in OOP?\n",
        "Classes are the building blocks of OOP in the realm of C++. It's similar to creating a prototype for a certain sort of object, encapsulating its attributes (data) and methods (functions) that operate on that data. They enable you to simulate real-world entities, abstract notions, or any aspect of your issue area. Assume you're creating a virtual zoo program. You'd construct a Animal class with attributes such as name, species, and age, as well as actions such as eat, sleep, and makeSound.\n",
        "\n",
        "# What is an object in OOP?\n",
        "In Object-Oriented Programming (OOP), an object is an instance of a class that encapsulates both data (known as attributes or state) and behaviors (known as methods or functions). It is a fundamental building block that represents a real-world or conceptual entity in a program. Each object has a unique identity, stores specific values for its attributes, and can perform actions defined by its class.\n",
        "\n",
        "# What is the difference between abstraction and encapsulation?\n",
        "**Abstraction** is the concept of hiding the complex implementation details and exposing only the essential features or functionality to the user. It focuses on what an object does rather than how it does it. For example, a car’s steering wheel abstracts away the complex mechanics of the engine; the driver only needs to know how to steer (the functionality), not the engine details. Abstraction is typically achieved using abstract classes, interfaces, or abstract methods.\n",
        "\n",
        "**Encapsulation** is the mechanism of bundling the data (variables) and the methods that operate on the data into a single unit (like a class) and restricting direct access to some of an object's components. This is done to protect the internal state and ensure controlled interaction through access modifiers like private, public, or protected. Encapsulation focuses more on how the object’s data is hidden and protected from outside interference or misuse, providing data hiding and security.\n",
        "\n",
        "# What are dunder methods in Python?\n",
        "Dunder methods in Python (short for “double underscore” methods), also known as “magic methods” or “special methods,” are methods with names that begin and end with double underscores, like `__init__`, `__str__`, `__len__`, etc.\n",
        "\n",
        "These methods are automatically invoked by Python to perform built-in operations or to customize the behavior of objects. For example:\n",
        "\n",
        "- `__init__(self, ...)`: Called when an object is initialized.\n",
        "- `__str__(self)`: Called when `str()` or `print()` is used on the object.\n",
        "- `__repr__(self)`: Called by `repr()` or the interactive interpreter.\n",
        "- `__len__(self)`: Called by `len()`.\n",
        "- `__getitem__(self, key)`: Invoked when using indexing (e.g., `obj[key]`).\n",
        "- `__add__(self, other)`: Called when using the `+` operator.\n",
        "\n",
        "These methods let you define how objects of your class behave with built-in Python functions and operators.\n",
        "\n",
        "# Explain the concept of inheritance in OOP?\n",
        "Inheritance in Object-Oriented Programming (OOP) is a fundamental concept where a new class, called a subclass or child class, is created based on an existing class, called a superclass or parent class. This mechanism allows the child class to inherit the properties (attributes) and behaviors (methods) of the parent class, promoting code reuse and establishing a hierarchical relationship between classes.\n",
        "\n",
        "# What is polymorphism in OOP?\n",
        "Polymorphism in Object-Oriented Programming (OOP) is the ability of objects, functions, or variables to take on multiple forms depending on the context. It allows the same interface or method to be used for different underlying data types or classes, enabling objects of different classes to be treated through a common interface while each class can implement the behavior differently.\n",
        "\n",
        "There are two main types:\n",
        "\n",
        "**Compile-time polymorphism (Static polymorphism):** Achieved through method overloading or operator overloading, where the method called is determined at compile time.\n",
        "\n",
        "**Run-time polymorphism (Dynamic polymorphism):** Achieved via method overriding, where the method that is executed is determined at run time based on the actual class of the object.\n",
        "\n",
        "# How is encapsulation achieved in Python?\n",
        "Encapsulation is like wrapping your favorite sandwich in foil. It keeps all the delicious ingredients (data) safe and sound, away from the prying hands of the world (other code). In programming, encapsulation is a fundamental concept of object-oriented programming (OOP) that restricts direct access to some of an object’s components. This is done to prevent the accidental modification of data.\n",
        "\n",
        "Think of it this way: if you had a pet goldfish, you wouldn’t want just anyone to stick their hands in the tank, right? You’d want to keep it safe and sound. Encapsulation does just that for your data.\n",
        "\n",
        "#What is a constructor in Python?\n",
        "A constructor in Python is a special method named __init__() that is automatically called when a new object of a class is created. Its main purpose is to initialize the object's attributes or set up its initial state. The __init__ method takes at least one parameter, self, which refers to the instance being created, and optionally other parameters to initialize attributes.\n",
        "\n",
        "Key points about Python constructors:\n",
        "\n",
        "It is defined using the method def __init__(self, ...).\n",
        "\n",
        "It runs automatically at object creation.\n",
        "\n",
        "It does not return a value (returns None by default).\n",
        "\n",
        "It is commonly used to assign values to instance variables.\n",
        "\n",
        "There are parameterized constructors (taking arguments) and non-parameterized constructors (taking only self).\n",
        "\n",
        "# What are class and static methods in Python?\n",
        "**Class Methods:**\n",
        "\n",
        "Defined using the @classmethod decorator.\n",
        "\n",
        "The first parameter is cls, which refers to the class itself, not an instance.\n",
        "\n",
        "Can access or modify class state that applies across all instances, such as class variables.\n",
        "\n",
        "Often used for factory methods or alternative constructors that create instances in different ways.\n",
        "\n",
        "**Static Methods:**\n",
        "\n",
        "Defined using the @staticmethod decorator.\n",
        "\n",
        "Do not take self or cls as a parameter.\n",
        "\n",
        "Cannot access or modify instance or class state.\n",
        "\n",
        "Mainly used to group utility functions that have some logical connection to the class but don't need to interact with class or instance data.\n",
        "\n",
        "# What is method overloading in Python?\n",
        "Method overloading in Python refers to the ability to create multiple methods with the same name but different parameters (type or number) to perform different functionalities. However, unlike languages such as Java or C++, Python does not support method overloading in the traditional sense. If you define multiple methods with the same name in a class, only the last defined method is used, and the previous definitions are overridden\n",
        "\n",
        "# What is method overriding in OOP?\n",
        "Method overriding in Object-Oriented Programming (OOP) is a feature that allows a subclass (child class) to provide a specific implementation of a method that is already defined in its superclass (parent class). When the subclass defines a method with the same name, same parameters (signature), and same return type as the superclass method, it overrides the behavior of that method. This means that when the method is called on an object of the subclass, the subclass’s version of the method is executed instead of the superclass’s version.\n",
        "\n",
        "# What is a property decorator in Python?\n",
        "The property decorator in Python is a built-in decorator that allows you to define methods in a class which behave like attributes. It is used to create managed attributes, so you can add logic that runs transparently when getting, setting, or deleting an attribute, while still using a simple, clean syntax like accessing a regular attribute.\n",
        "\n",
        "#What are the advantages of OOP?\n",
        ">We can build the programs from standard working modules that communicate with one another, rather than having to start writing the code from scratch which leads to saving of development time and higher productivity,\n",
        ">OOP language allows to break the program into the bit-sized problems that can be solved easily (one object at a time).\n",
        ">The new technology promises greater programmer productivity, better quality of software and lesser maintenance cost.\n",
        ">OOP systems can be easily upgraded from small to large systems.\n",
        ">It is possible that multiple instances of objects co-exist without any interference,\n",
        ">It is very easy to partition the work in a project based on objects.\n",
        "\n",
        "# What is the significance of the __del__ method in Python?\n",
        "The __del__ method in Python is a special \"destructor\" method called when an object is about to be destroyed—typically when its reference count drops to zero and Python's garbage collector plans to reclaim its memory. It allows you to define cleanup actions like releasing external resources (e.g., closing files, deleting temporary data, or closing network connections) right before the object is removed from memory\n"
      ],
      "metadata": {
        "id": "O6moMUBe8ctz"
      }
    }
  ]
}