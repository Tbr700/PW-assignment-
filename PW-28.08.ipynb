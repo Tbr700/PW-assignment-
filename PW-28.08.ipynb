{
  "cells": [
    {
      "cell_type": "code",
      "execution_count": null,
      "metadata": {
        "colab": {
          "base_uri": "https://localhost:8080/"
        },
        "id": "9htrpNw-372b",
        "outputId": "7c2db660-e64a-4aa9-9c11-fca5a8d311b7"
      },
      "outputs": [
        {
          "name": "stdout",
          "output_type": "stream",
          "text": [
            " * Serving Flask app '__main__'\n",
            " * Debug mode: on\n"
          ]
        },
        {
          "name": "stderr",
          "output_type": "stream",
          "text": [
            "INFO:werkzeug:\u001b[31m\u001b[1mWARNING: This is a development server. Do not use it in a production deployment. Use a production WSGI server instead.\u001b[0m\n",
            " * Running on http://127.0.0.1:5000\n",
            "INFO:werkzeug:\u001b[33mPress CTRL+C to quit\u001b[0m\n",
            "INFO:werkzeug: * Restarting with watchdog (inotify)\n"
          ]
        }
      ],
      "source": [
        "# Import the Flask class\n",
        "from flask import Flask\n",
        "\n",
        "app = Flask(__name__)\n",
        "\n",
        "def hello_world():\n",
        "    return '<h1>Hello, World!</h1>'\n",
        "\n",
        "if __name__ == '__main__':\n",
        "\n",
        "    app.run(debug=True)"
      ]
    },
    {
      "cell_type": "code",
      "execution_count": null,
      "metadata": {
        "colab": {
          "base_uri": "https://localhost:8080/"
        },
        "id": "oLzbZmij4gPu",
        "outputId": "0d310122-0a11-46c1-8af0-d1e6eec912ea"
      },
      "outputs": [
        {
          "name": "stdout",
          "output_type": "stream",
          "text": [
            " * Serving Flask app '__main__'\n",
            " * Debug mode: on\n"
          ]
        },
        {
          "name": "stderr",
          "output_type": "stream",
          "text": [
            "INFO:werkzeug:\u001b[31m\u001b[1mWARNING: This is a development server. Do not use it in a production deployment. Use a production WSGI server instead.\u001b[0m\n",
            " * Running on http://127.0.0.1:5000\n",
            "INFO:werkzeug:\u001b[33mPress CTRL+C to quit\u001b[0m\n",
            "INFO:werkzeug: * Restarting with watchdog (inotify)\n"
          ]
        }
      ],
      "source": [
        "# How do you serve static files like images or CSS in Flask.\n",
        "<!DOCTYPE html>\n",
        "<html lang=\"en\">\n",
        "<head>\n",
        "    <meta charset=\"UTF-8\">\n",
        "    <title>Static Files Example</title>\n",
        "    <!-- Links to a CSS file inside the static folder -->\n",
        "    <link rel=\"stylesheet\" href=\"{{ url_for('static', filename='styles.css') }}\">\n",
        "</head>\n",
        "<body>\n",
        "    <h1>My Flask App</h1>\n",
        "    <!-- Displays an image from the static folder -->\n",
        "    <img src=\"{{ url_for('static', filename='logo.png') }}\" alt=\"Site Logo\">\n",
        "</body>\n",
        "</html>"
      ]
    },
    {
      "cell_type": "code",
      "execution_count": null,
      "metadata": {
        "id": "a4b6e8bb"
      },
      "outputs": [],
      "source": [
        "# This is the HTML content for the template.\n",
        "html_template_content = \"\"\"\n",
        "<!DOCTYPE html>\n",
        "<html lang=\"en\">\n",
        "<head>\n",
        "    <meta charset=\"UTF-8\">\n",
        "    <title>Static Files Example</title>\n",
        "    <!-- Links to a CSS file inside the static folder -->\n",
        "    <link rel=\"stylesheet\" href=\"{{ url_for('static', filename='styles.css') }}\">\n",
        "</head>\n",
        "<body>\n",
        "    <h1>My Flask App</h1>\n",
        "    <!-- Displays an image from the static folder -->\n",
        "    <img src=\"{{ url_for('static', filename='logo.png') }}\" alt=\"Site Logo\">\n",
        "</body>\n",
        "</html>\n",
        "\"\"\"\n",
        "\n",
        "# In a real Flask application, you would save this content to a file\n",
        "# like 'index.html' inside a 'templates' folder.\n",
        "# For demonstration purposes in Colab, we will use this string directly\n",
        "# and render it using render_template_string."
      ]
    },
    {
      "cell_type": "code",
      "execution_count": null,
      "metadata": {
        "colab": {
          "background_save": true,
          "base_uri": "https://localhost:8080/"
        },
        "id": "8b74f2db",
        "outputId": "d9164f02-d654-477a-ff83-46de9b30b980"
      },
      "outputs": [
        {
          "name": "stdout",
          "output_type": "stream",
          "text": [
            " * Serving Flask app '__main__'\n",
            " * Debug mode: on\n"
          ]
        },
        {
          "name": "stderr",
          "output_type": "stream",
          "text": [
            "INFO:werkzeug:\u001b[31m\u001b[1mWARNING: This is a development server. Do not use it in a production deployment. Use a production WSGI server instead.\u001b[0m\n",
            " * Running on http://127.0.0.1:5001\n",
            "INFO:werkzeug:\u001b[33mPress CTRL+C to quit\u001b[0m\n",
            "INFO:werkzeug: * Restarting with watchdog (inotify)\n"
          ]
        }
      ],
      "source": [
        "from flask import Flask, render_template_string\n",
        "import os\n",
        "\n",
        "app = Flask(__name__)\n",
        "\n",
        "# Create dummy static and templates folders for demonstration\n",
        "# In a real application, you would create these folders manually\n",
        "if not os.path.exists('static'):\n",
        "    os.makedirs('static')\n",
        "if not os.path.exists('templates'):\n",
        "    os.makedirs('templates')\n",
        "\n",
        "# Create dummy static files for demonstration\n",
        "# In a real application, you would have your actual CSS and image files here\n",
        "with open('static/styles.css', 'w') as f:\n",
        "    f.write(\"body { background-color: lightblue; }\")\n",
        "\n",
        "# You would typically save the html_template_content to a file in the templates folder\n",
        "# For this demonstration, we will use render_template_string directly.\n",
        "\n",
        "@app.route('/')\n",
        "def home():\n",
        "    # In a real application, you would use render_template('index.html')\n",
        "    return render_template_string(html_template_content)\n",
        "\n",
        "if __name__ == '__main__':\n",
        "    # Use a port other than 5000 as it might be in use from previous attempts\n",
        "    app.run(debug=True, port=5001)"
      ]
    },
    {
      "cell_type": "code",
      "execution_count": null,
      "metadata": {
        "id": "lt-GoaAL78nU"
      },
      "outputs": [],
      "source": [
        " #How do you define different routes with different HTTP methods in Flask.\n",
        " # Import Flask, and the 'request' and 'redirect' functions\n",
        "from flask import Flask, request, redirect\n",
        "\n",
        "# Create the application instance\n",
        "app = Flask(__name__)\n",
        "\n",
        "# This route handles both GET and POST requests\n",
        "@app.route('/login', methods=['GET', 'POST'])\n",
        "def login():\n",
        "    \"\"\"\n",
        "    Handles a login page. A GET request serves the form.\n",
        "    A POST request processes the form data.\n",
        "    \"\"\"\n",
        "    # Check if the request is a POST request\n",
        "    if request.method == 'POST':\n",
        "        # Get data from the form\n",
        "        username = request.form.get('username')\n",
        "        # Here, you would process the login logic (e.g., check credentials)\n",
        "        # For this example, we'll just return a success message\n",
        "        return f'<h1>Welcome, {username}!</h1>'\n",
        "    else:\n",
        "        # If it's a GET request, serve the HTML form\n",
        "        return '''\n",
        "            <div style=\"font-family: Arial, sans-serif; text-align: center; margin-top: 50px;\">\n",
        "                <h2>Login</h2>\n",
        "                <form method=\"post\">\n",
        "                    <label for=\"username\">Username:</label><br>\n",
        "                    <input type=\"text\" id=\"username\" name=\"username\"><br><br>\n",
        "                    <input type=\"submit\" value=\"Log In\">\n",
        "                </form>\n",
        "            </div>\n",
        "        '''\n",
        "\n",
        "# Run the application\n",
        "if __name__ == '__main__':\n",
        "    # Using debug=True for development, which reloads the server on code changes\n",
        "    app.run(debug=True)\n",
        "\n"
      ]
    },
    {
      "cell_type": "code",
      "execution_count": null,
      "metadata": {
        "id": "oP_tRlXF-YBi",
        "colab": {
          "base_uri": "https://localhost:8080/"
        },
        "outputId": "1db642dd-1265-49d9-dc51-61c5d95c2f87"
      },
      "outputs": [
        {
          "metadata": {
            "tags": null
          },
          "name": "stdout",
          "output_type": "stream",
          "text": [
            " * Serving Flask app '__main__'\n",
            " * Debug mode: on\n"
          ]
        },
        {
          "metadata": {
            "tags": null
          },
          "name": "stderr",
          "output_type": "stream",
          "text": [
            "INFO:werkzeug:\u001b[31m\u001b[1mWARNING: This is a development server. Do not use it in a production deployment. Use a production WSGI server instead.\u001b[0m\n",
            " * Running on http://127.0.0.1:5000\n",
            "INFO:werkzeug:\u001b[33mPress CTRL+C to quit\u001b[0m\n",
            "INFO:werkzeug: * Restarting with watchdog (inotify)\n"
          ]
        }
      ],
      "source": [
        " #How can you generate URLs for routes in Flask using url_for\n",
        "\n",
        "from flask import Flask, url_for\n",
        "\n",
        "app = Flask(__name__) # Define the Flask application instance\n",
        "\n",
        "@app.route('/about')\n",
        "def about():\n",
        "    pass\n",
        "\n",
        "@app.route('/')\n",
        "def index():\n",
        "    about_url = url_for('about')\n",
        "    return f'<h1>Go to the <a href=\"{about_url}\">About Page</a></h1>'\n",
        "\n",
        "if __name__ == '__main__':\n",
        "    app.run(debug=True)"
      ]
    },
    {
      "cell_type": "code",
      "source": [
        "from flask import Flask, url_for\n",
        "\n",
        "app = Flask(__name__)\n",
        "\n",
        "@app.route('/')\n",
        "def home():\n",
        "    # This will generate the URL for the 'about' function, which is '/about'\n",
        "    # and link to it from the home page.\n",
        "    return f'<a href=\"{url_for(\"about\")}\">Go to About Page</a>'\n",
        "\n",
        "@app.route('/about')\n",
        "def about():\n",
        "    return '<h1>About Page</h1>'"
      ],
      "metadata": {
        "id": "s3DlvZfM-IiP"
      },
      "execution_count": null,
      "outputs": []
    },
    {
      "cell_type": "code",
      "source": [
        "from flask import Flask, url_for\n",
        "\n",
        "app = Flask(__name__)\n",
        "\n",
        "@app.route('/')\n",
        "def home():\n",
        "    return \"Welcome Home!\"\n",
        "\n",
        "@app.route('/about')\n",
        "def about():\n",
        "    return \"About Page\"\n",
        "\n",
        "@app.route('/generate')\n",
        "def generate():\n",
        "    # Generate URL for 'about' route\n",
        "    return f\"URL for About page: {url_for('about')}\"\n"
      ],
      "metadata": {
        "id": "-1cJDb2y-4jX"
      },
      "execution_count": null,
      "outputs": []
    },
    {
      "cell_type": "code",
      "source": [
        "from flask import url_for\n",
        "\n",
        "# This will generate '/user/john'\n",
        "profile_url = url_for('profile', username='john')"
      ],
      "metadata": {
        "id": "nodEd_GHCikf"
      },
      "execution_count": null,
      "outputs": []
    },
    {
      "cell_type": "code",
      "source": [
        "from flask import Flask, render_template\n",
        "\n",
        "app = Flask(__name__)\n",
        "\n",
        "# Define a route that will not be found to demonstrate the 404 error\n",
        "@app.route('/this-page-does-not-exist')\n",
        "def non_existent_page():\n",
        "    return \"You should not see this page if the 404 handler is working.\"\n",
        "\n",
        "# Error handler for 404 Not Found errors\n",
        "@app.errorhandler(404)\n",
        "def page_not_found(e):\n",
        "    # You can render a custom HTML template for the error page\n",
        "    # For this example, we'll just return a simple string and a status code\n",
        "    return \"<h1>404 - Page Not Found</h1><p>The page you are looking for could not be found.</p>\", 404\n",
        "\n",
        "if __name__ == '__main__':\n",
        "    # Run the Flask application\n",
        "    # Use a different port if 5000, 5001, or 5002 are in use\n",
        "    app.run(debug=True, port=5003)"
      ],
      "metadata": {
        "id": "Y_ugqv4pFyQa"
      },
      "execution_count": null,
      "outputs": []
    },
    {
      "cell_type": "markdown",
      "source": [
        "#What is a RESTful API?\n",
        "A RESTful API is an application programming interface that follows the architectural principles of Representational State Transfer (REST), allowing systems to communicate and exchange data over the internet using standard HTTP method.\n",
        "\n",
        "# Explain the concept of API specification\n",
        "An API specification is a formal, structured blueprint that describes the expected behavior, design, endpoints, inputs, outputs, and data models of an API, typically in a machine-readable format like JSON or YAML using standards such as OpenAPI.\n",
        "\n",
        "# What is Flask, and why is it popular for building APIs?\n",
        "Flask is a lightweight, flexible Python web framework classified as a microframework because it provides the essentials for web development without imposing complex dependencies or built-in components like authentication or database management.\n",
        "\n",
        "# How do you create a simple Flask application\n",
        "from flask import Flask\n",
        "\n",
        "app = Flask(__name__)\n",
        "\n",
        "@app.route('/')\n",
        "def hello():\n",
        "    return 'Hello, World!'\n",
        "\n",
        "if __name__ == '__main__':\n",
        "    app.run()\n",
        "# What are HTTP methods used in RESTful APIs?\n",
        "GET: Retrieves data or a resource from the server. It is safe and idempotent, meaning it does not change server state and repeated requests return the same result.\n",
        "\n",
        "POST: Sends data to the server to create a new resource or trigger processing. It is not idempotent, so repeated calls can create multiple resources or have side effects.\n",
        "\n",
        "PUT: Updates or replaces an existing resource at a specified URL, or creates it if it does not exist. It is idempotent because repeated identical requests produce the same result.\n",
        "\n",
        "DELETE: Removes a resource on the server. It is considered idempotent, although the deleted resource URL may still exist.\n",
        "\n",
        "PATCH: Partially updates a resource with the provided changes, often more efficient than PUT for large resources. It is not necessarily idempotent depending on implementation\n",
        "\n",
        "# What is the purpose of the @app.route() decorator in Flask?\n",
        "The @app.route() decorator in Flask is used to bind a specific URL (route) to a Python function. Its purpose is to tell Flask which function to execute when a client requests that particular URL.\n",
        "\n",
        "# What is the difference between GET and POST HTTP methods?\n",
        "| Feature       | GET                     | POST                         |\n",
        "| ------------- | ----------------------- | ---------------------------- |\n",
        "| Purpose       | Retrieve data           | Send data (create/update)    |\n",
        "| Data Location | URL (query string)      | Request body                 |\n",
        "| Security      | Less secure             | More secure (with HTTPS)     |\n",
        "| Idempotent    | Yes                     | No                           |\n",
        "| Use Case      | Search, read operations | Login, register, submit form |\n",
        "\n",
        "# How do you handle errors in Flask APIs\n",
        "1. Using Custom Error Handlers\n",
        "Flask supports defining custom error handlers using the @app.errorhandler decorator. This lets you catch specific HTTP errors (like 404 Not Found or 400 Bad Request) and return structured JSON responses instead of the default HTML error pages.\n",
        "Example for 404:\n",
        "\n",
        "2. Using abort() with Error Handlers\n",
        "You can trigger errors manually by calling abort(status_code). Combined with custom error handlers, this allows you to return meaningful messages:\n",
        "\n",
        "# How do you connect Flask to a SQL database\n",
        "Connecting Flask to a SQL database typically involves using an Object-Relational Mapper (ORM) like SQLAlchemy or a database-specific library. SQLAlchemy is the most popular choice because it provides a high-level, consistent interface for working with many different database engines, such as SQLite, PostgreSQL, and MySQL.\n",
        "\n",
        "The most common and recommended way to integrate SQLAlchemy with Flask is by using the Flask-SQLAlchemy extension. It simplifies the setup and makes database operations feel more \"Flask-like.\"\n",
        "\n",
        "# What is the role of Flask-SQLAlchemy\n",
        "\n",
        "Simplifies Setup: It handles a lot of the boilerplate code required to set up a database connection. Instead of manually configuring an engine, a session, and a base declarative, you just set a single configuration key (SQLALCHEMY_DATABASE_URI) and create a SQLAlchemy object.\n",
        "\n",
        "Object-Relational Mapping (ORM): At its core, it's an ORM. This means it allows you to work with database tables as if they were simple Python classes and objects. You define your database schema using Python classes called models, and Flask-SQLAlchemy handles the translation of these Python objects into SQL queries. This lets you perform operations like adding a new user or finding a post without writing any raw SQL.\n",
        "\n",
        "# What are Flask blueprints, and how are they useful\n",
        "Flask blueprints are a way to organize and modularize a Flask application. They allow you to define a set of routes, templates, and static files in a separate file, which can then be registered with the main Flask application. Think of a blueprint as a way to create a self-contained, mini-application that you can plug into a larger one.\n",
        "\n",
        "They useful:\n",
        "Promote Modularity: They break a single, large application file into smaller, more manageable components. For example, in a blog application, you could have a posts blueprint for all blog-related routes and a users blueprint for user authentication and profiles.\n",
        "\n",
        "Enable Code Reusability: A blueprint is not a runnable application on its own; it's a blueprint for one. This means you can create a blueprint and register it multiple times in the same application, or use it in different projects entirely.\n",
        "\n",
        "Improve Scalability: As your application grows, a single app.py file can become unmanageable. Blueprints help you organize your code by feature or function, making it easier for multiple developers to work on different parts of the application simultaneously without conflicts.\n",
        "\n",
        "# What is the purpose of Flask's request object?\n",
        "The purpose of Flask's request object is to provide access to incoming request data from the client, such as a web browser. It's a global proxy object that holds all the information sent with an HTTP request to your Flask application.\n",
        "\n",
        "The request object is essential because it allows you to get details about the user's request, which you can then use in your application logic. Without it, you wouldn't be able to handle forms, URL parameters, or different HTTP methods.\n",
        "\n",
        "# How do you create a RESTful API endpoint using Flask\n",
        "from flask import Flask, jsonify, request\n",
        "\n",
        "app = Flask(__name__)\n",
        "incomes = [\n",
        "    {'description': 'salary', 'amount': 5000}\n",
        "]\n",
        "\n",
        "@app.route('/incomes', methods=['GET'])\n",
        "def get_incomes():\n",
        "    return jsonify(incomes)\n",
        "@app.route('/incomes', methods=['POST'])\n",
        "def add_income():\n",
        "    new_income = request.get_json()\n",
        "    incomes.append(new_income)\n",
        "    return '', 204  \n",
        "# What is the purpose of Flask's jsonify() function\n",
        "\n",
        "The key reason is that jsonify() does more than just convert the data. It also:\n",
        "\n",
        "Sets the Content-Type Header: It automatically adds the Content-Type header to the response, setting its value to application/json. This tells the client (like a browser or another API) that the body of the response contains JSON data, which is essential for proper parsing.\n",
        "\n",
        "Encodes Data Safely: It uses a JSON encoder to handle Python data types like dictionaries, lists, booleans, and numbers, converting them into their correct JSON equivalents.\n",
        "\n",
        "# Explain Flask’s url_for() function?\n",
        "Using url_for() provides several significant advantages:\n",
        "\n",
        "Centralized URL Management: If you ever change the URL of a route, you only need to modify the @app.route() decorator. url_for() automatically generates the correct, new URL without you having to find and replace every instance of the old URL string in your code. This is a crucial practice for writing maintainable applications.\n",
        "\n",
        "Avoids Typos: It helps prevent human errors. If you misspell a function name within url_for(), Flask will raise an error, letting you know the route doesn't exist. This is much better than a broken link on your live site.\n",
        "\n",
        "Handles Arguments: It can handle both variable rules in a URL (like <username>) and query parameters (like ?sort=asc). You simply pass these values as keyword arguments to the function, and Flask constructs the full URL correctly.\n",
        "\n",
        "# How does Flask handle static files (CSS, JavaScript, etc.)\n",
        "Flask handles static files such as CSS, JavaScript, images, and other assets by serving them from a designated folder named static in the project directory. Flask automatically maps the URL path /static to this folder, allowing easy access to static resources.\n",
        "\n",
        "# What is an API specification, and how does it help in building a Flask API\n",
        "An API specification (also known as an API definition or API contract) is a document that describes all the details of a web API, including its endpoints, the HTTP methods it supports, the data it expects to receive (request payloads), and the data it will return (response payloads). It acts like a blueprint for an API.\n",
        "\n",
        "# What are HTTP status codes, and why are they important in a Flask API\n",
        "HTTP status codes are three-digit numbers that a server sends back to a client in response to an HTTP request. They are a fundamental part of the HTTP protocol and serve as a way for the server to communicate the outcome of a request.\n",
        "\n",
        "HTTP status codes are three-digit numbers that a server sends back to a client in response to an HTTP request. They are a fundamental part of the HTTP protocol and serve as a way for the server to communicate the outcome of a request.\n",
        "\n",
        "Importance in a Flask API:\n",
        "In a Flask API, HTTP status codes are critical for communicating the success or failure of a request. A well-designed API uses status codes to provide immediate feedback to the client without requiring them to parse the response body. This makes the API more predictable and easier for developers to use.\n",
        "\n",
        "# How do you handle POST requests in Flask\n",
        "from flask import Flask, request, jsonify\n",
        "\n",
        "app = Flask(__name__)\n",
        "\n",
        "@app.route('/submit', methods=['POST'])\n",
        "def submit():\n",
        "    form_data = request.form\n",
        "\n",
        "    json_data = request.get_json()\n",
        "    name = form_data.get('name') if form_data else None\n",
        "    age = json_data.get('age') if json_data else None\n",
        "\n",
        "    return jsonify({\"message\": \"Data received\", \"name\": name, \"age\": age})\n",
        "\n",
        "# How would you secure a Flask API\n",
        "1. Use HTTPS\n",
        "Ensure communication between clients and your Flask API is encrypted by enabling HTTPS. This prevents data interception and man-in-the-middle attacks. Flask-SSLify or server-level configuration can enforce this.\n",
        "\n",
        "2. Implement Authentication and Authorization\n",
        "Use robust authentication libraries like Flask-Login, Flask-JWT, or Flask-HTTPAuth to secure API endpoints. OAuth2 or JWT (JSON Web Tokens) are commonly employed for token-based authentication.\n",
        "\n",
        "3. Protect Against CSRF\n",
        "Use extensions like Flask-WTF to implement Cross-Site Request Forgery (CSRF) protection especially if your API serves browser-based clients or has forms.\n",
        "\n",
        "# What is the significance of the Flask-RESTful extension\n",
        "Significance and Benefits of Flask-RESTful:\n",
        "\n",
        "Resource-Oriented Design: Flask-RESTful encourages designing APIs around resources, which represent entities with unique URIs. Each resource is a class that can handle HTTP methods like GET, POST, PUT, and DELETE with corresponding class methods.\n",
        "\n",
        "Class-Based Resources: Unlike traditional Flask routing with function decorators, Flask-RESTful allows defining resources as Python classes inheriting from a Resource base class. This promotes code organization and reusability.\n",
        "\n",
        "Automatic Request Parsing and Validation: It offers a built-in reqparse module to easily define expected request arguments and validation rules, helping to handle incoming data cleanly.\n",
        "\n",
        "Response Formatting: Responses are automatically formatted as JSON, reducing manual serialization efforts and ensuring consistent output formats.\n",
        "\n",
        "# What is the role of Flask’s session object?\n",
        "The purpose of Flask's session object is to store data that needs to persist across multiple requests for a single user. Since HTTP is a stateless protocol, each request from a browser is treated as a brand new interaction by the server. The session object solves this problem by providing a way to remember a user's state."
      ],
      "metadata": {
        "id": "dVbwNsKDMpVw"
      }
    }
  ],
  "metadata": {
    "colab": {
      "provenance": []
    },
    "kernelspec": {
      "display_name": "Python 3",
      "name": "python3"
    },
    "language_info": {
      "name": "python"
    }
  },
  "nbformat": 4,
  "nbformat_minor": 0
}