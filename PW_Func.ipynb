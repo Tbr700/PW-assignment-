{
  "nbformat": 4,
  "nbformat_minor": 0,
  "metadata": {
    "colab": {
      "provenance": []
    },
    "kernelspec": {
      "name": "python3",
      "display_name": "Python 3"
    },
    "language_info": {
      "name": "python"
    }
  },
  "cells": [
    {
      "cell_type": "code",
      "execution_count": null,
      "metadata": {
        "colab": {
          "base_uri": "https://localhost:8080/"
        },
        "id": "znAPPXvFRqHr",
        "outputId": "e416691f-8ab8-4d18-f8ed-e20a264d4552"
      },
      "outputs": [
        {
          "output_type": "stream",
          "name": "stdout",
          "text": [
            "12\n"
          ]
        }
      ],
      "source": [
        "#Write a Python function that takes a list of numbers as input and returns the sum of all even numbers in the list.\n",
        "def sum_even_numbers(numbers):\n",
        "    return sum(num for num in numbers if num % 2 == 0)\n",
        "nums = [1, 2, 3, 4, 5, 6]\n",
        "print(sum_even_numbers(nums))\n"
      ]
    },
    {
      "cell_type": "code",
      "source": [
        "#Create a Python function that accepts a string and returns the reverse of that string.\n",
        "def reverse_string(string):\n",
        "    return string[::-1]\n",
        "my_string = \"Hello, World!\"\n",
        "reversed_string = reverse_string(my_string)\n",
        "print(reversed_string)"
      ],
      "metadata": {
        "colab": {
          "base_uri": "https://localhost:8080/"
        },
        "id": "g8MlHkItCO_2",
        "outputId": "b7b0d7b5-2489-48dd-b542-f70297892b38"
      },
      "execution_count": null,
      "outputs": [
        {
          "output_type": "stream",
          "name": "stdout",
          "text": [
            "!dlroW ,olleH\n"
          ]
        }
      ]
    },
    {
      "cell_type": "code",
      "source": [
        "#. Implement a Python function that takes a list of integers and returns a new list containing the squares of each number\n",
        "def square_numbers(numbers):\n",
        "    return [num ** 2 for num in numbers]\n",
        "my_list = [1, 2, 3, 4, 5]\n",
        "squared_list = square_numbers(my_list)\n",
        "print(squared_list)"
      ],
      "metadata": {
        "colab": {
          "base_uri": "https://localhost:8080/"
        },
        "id": "l-h02eJHDRMP",
        "outputId": "eb7111e7-952d-4a4c-ef78-f4a760b3a543"
      },
      "execution_count": null,
      "outputs": [
        {
          "output_type": "stream",
          "name": "stdout",
          "text": [
            "[1, 4, 9, 16, 25]\n"
          ]
        }
      ]
    },
    {
      "cell_type": "code",
      "source": [
        "#Write a Python function that checks if a given number is prime or not from 1 to 200\n",
        "number = int(input(\"Enter a number: \"))\n",
        "\n",
        "def is_prime(n):\n",
        "    if n < 2 and n > 201:\n",
        "        return (\"Out of Range\")\n",
        "    else:\n",
        "      for i in range(2, int(n**0.5) + 1):\n",
        "        if n % i == 0:\n",
        "          return (\"Not Prime\")\n",
        "        else:\n",
        "          return (\"Prime\")\n",
        "\n",
        "is_prime(number)"
      ],
      "metadata": {
        "colab": {
          "base_uri": "https://localhost:8080/",
          "height": 53
        },
        "id": "9kASEdTjeuIf",
        "outputId": "b98a7613-58db-4db5-b10f-61233da78b63"
      },
      "execution_count": null,
      "outputs": [
        {
          "name": "stdout",
          "output_type": "stream",
          "text": [
            "Enter a number: 77\n"
          ]
        },
        {
          "output_type": "execute_result",
          "data": {
            "text/plain": [
              "'Prime'"
            ],
            "application/vnd.google.colaboratory.intrinsic+json": {
              "type": "string"
            }
          },
          "metadata": {},
          "execution_count": 2
        }
      ]
    },
    {
      "cell_type": "code",
      "source": [
        "#Create an iterator class in Python that generates the Fibonacci sequence up to a specified number of terms.\n",
        "\"\"\"class FibonacciIterator:\n",
        "    def __init__(self, n):\n",
        "        self.n = n\n",
        "        self.a, self.b = 0, 1\n",
        "        self.count = 0\"\"\"\n",
        "\n",
        "# Example usage:\n",
        "fib_iterator = FibonacciIterator(10)\n",
        "for num in fib_iterator:\n",
        "    print(num)"
      ],
      "metadata": {
        "colab": {
          "base_uri": "https://localhost:8080/",
          "height": 193
        },
        "id": "W0xIcWOJjRfE",
        "outputId": "d534310b-2dc5-410e-9fba-8b2bad8e4a21"
      },
      "execution_count": null,
      "outputs": [
        {
          "output_type": "error",
          "ename": "TypeError",
          "evalue": "'FibonacciIterator' object is not iterable",
          "traceback": [
            "\u001b[0;31m---------------------------------------------------------------------------\u001b[0m",
            "\u001b[0;31mTypeError\u001b[0m                                 Traceback (most recent call last)",
            "\u001b[0;32m/tmp/ipython-input-10-2254646830.py\u001b[0m in \u001b[0;36m<cell line: 0>\u001b[0;34m()\u001b[0m\n\u001b[1;32m      8\u001b[0m \u001b[0;31m# Example usage:\u001b[0m\u001b[0;34m\u001b[0m\u001b[0;34m\u001b[0m\u001b[0m\n\u001b[1;32m      9\u001b[0m \u001b[0mfib_iterator\u001b[0m \u001b[0;34m=\u001b[0m \u001b[0mFibonacciIterator\u001b[0m\u001b[0;34m(\u001b[0m\u001b[0;36m10\u001b[0m\u001b[0;34m)\u001b[0m\u001b[0;34m\u001b[0m\u001b[0;34m\u001b[0m\u001b[0m\n\u001b[0;32m---> 10\u001b[0;31m \u001b[0;32mfor\u001b[0m \u001b[0mnum\u001b[0m \u001b[0;32min\u001b[0m \u001b[0mfib_iterator\u001b[0m\u001b[0;34m:\u001b[0m\u001b[0;34m\u001b[0m\u001b[0;34m\u001b[0m\u001b[0m\n\u001b[0m\u001b[1;32m     11\u001b[0m     \u001b[0mprint\u001b[0m\u001b[0;34m(\u001b[0m\u001b[0mnum\u001b[0m\u001b[0;34m)\u001b[0m\u001b[0;34m\u001b[0m\u001b[0;34m\u001b[0m\u001b[0m\n",
            "\u001b[0;31mTypeError\u001b[0m: 'FibonacciIterator' object is not iterable"
          ]
        }
      ]
    },
    {
      "cell_type": "code",
      "source": [
        "#Create an iterator class in Python that generates the Fibonacci sequence up to a specified number of terms.\n",
        "\n"
      ],
      "metadata": {
        "id": "tF98I1QKkKR5"
      },
      "execution_count": null,
      "outputs": []
    },
    {
      "cell_type": "code",
      "source": [
        "# Write a generator function in Python that yields the powers of 2 up to a given exponent.\n",
        "def power_of_two(n):\n",
        "    for i in range(n + 1):\n",
        "        yield 2 ** i\n",
        "for power in power_of_two(4):\n",
        "    print(power)"
      ],
      "metadata": {
        "colab": {
          "base_uri": "https://localhost:8080/"
        },
        "id": "E4H-2bxXlDm2",
        "outputId": "ee0ecb5b-d7b0-4f0e-8ea8-5d1f142135cc"
      },
      "execution_count": null,
      "outputs": [
        {
          "output_type": "stream",
          "name": "stdout",
          "text": [
            "1\n",
            "2\n",
            "4\n",
            "8\n",
            "16\n"
          ]
        }
      ]
    },
    {
      "cell_type": "code",
      "source": [
        "#Implement a generator function that reads a file line by line and yields each line as a string.\n",
        "def read_file_lines(filepath):\n",
        "    with open(filepath, 'r') as file:\n",
        "        for line in file:\n",
        "            yield line.rstrip('\\n')\n",
        "\n",
        "# Example usage:\n",
        "for line in read_file_lines('example.txt'):\n",
        "  print(line)\n"
      ],
      "metadata": {
        "colab": {
          "base_uri": "https://localhost:8080/"
        },
        "id": "9Jm6tPFfc0Sn",
        "outputId": "b75b1c17-dc2e-45b1-8b8d-870a334022ee"
      },
      "execution_count": null,
      "outputs": [
        {
          "output_type": "stream",
          "name": "stdout",
          "text": [
            "This is the first line.\n",
            "This is the second line.\n",
            "And this is the third line.\n"
          ]
        }
      ]
    },
    {
      "cell_type": "code",
      "source": [
        "#. Use a lambda function in Python to sort a list of tuples based on the second element of each tuple.\n",
        "L = [(1, 3), (2, 1), (3, 2), (4, 4)]\n",
        "sorted_list = sorted(L, key=lambda x: x[1])\n",
        "print(sorted_list)"
      ],
      "metadata": {
        "colab": {
          "base_uri": "https://localhost:8080/"
        },
        "id": "R-glSgfic077",
        "outputId": "6e943941-0847-494f-b0e1-a35408f09996"
      },
      "execution_count": null,
      "outputs": [
        {
          "output_type": "stream",
          "name": "stdout",
          "text": [
            "[(2, 1), (3, 2), (1, 3), (4, 4)]\n"
          ]
        }
      ]
    },
    {
      "cell_type": "code",
      "source": [
        "# Write a Python program that uses `map()` to convert a list of temperatures from Celsius to Fahrenheit\n",
        "def celsius_to_fahrenheit(c):\n",
        "    return (c * 9/5) + 32\n",
        "\n",
        "# List of temperatures in Celsius\n",
        "celsius_temps = [0, 20, 37, 100]\n",
        "\n",
        "# Use map to convert all temperatures to Fahrenheit\n",
        "fahrenheit_temps = list(map(celsius_to_fahrenheit, celsius_temps))\n",
        "\n",
        "# Print the result\n",
        "print(\"Temperatures in Fahrenheit:\", fahrenheit_temps)\n"
      ],
      "metadata": {
        "colab": {
          "base_uri": "https://localhost:8080/"
        },
        "id": "z7V5SmWDhopY",
        "outputId": "6487698a-bb54-4a15-87ee-f246962db350"
      },
      "execution_count": null,
      "outputs": [
        {
          "output_type": "stream",
          "name": "stdout",
          "text": [
            "Temperatures in Fahrenheit: [32.0, 68.0, 98.6, 212.0]\n"
          ]
        }
      ]
    },
    {
      "cell_type": "code",
      "source": [
        "#. Create a Python program that uses `filter()` to remove all the vowels from a given string.\n",
        "def remove_vowels(string):\n",
        "    vowels = 'aeiouAEIOU'\n",
        "    return ''.join(filter(lambda x: x not in vowels, string))\n",
        "my_string = \"Hello, World!\"\n",
        "result = remove_vowels(my_string)\n",
        "print(\"Original string:\", my_string)\n",
        "print(\"String without vowels:\", result)\n",
        "\n"
      ],
      "metadata": {
        "colab": {
          "base_uri": "https://localhost:8080/"
        },
        "id": "LZYMmgrVh7uJ",
        "outputId": "9d6292d5-537e-418e-d3f0-e03899a897ad"
      },
      "execution_count": null,
      "outputs": [
        {
          "output_type": "stream",
          "name": "stdout",
          "text": [
            "Original string: Hello, World!\n",
            "String without vowels: Hll, Wrld!\n"
          ]
        }
      ]
    },
    {
      "cell_type": "code",
      "source": [
        "orders = [\n",
        "    [34587, \"Learning Python, Mark Lutz\", 4, 40.95],\n",
        "    [98762, \"Programming Python, Mark Lutz\", 5, 56.80],\n",
        "    [77226, \"Head First Python, Paul Barry\", 3, 32.95],\n",
        "    [88112, \"Einführung in Python3, Bernd Klein\", 3, 24.99]\n",
        "]\n",
        "\n",
        "# Use map with lambda to process each order\n",
        "invoice = list(map(lambda order:\n",
        " (order[0],\n",
        "    order[2] * order[3] if order[2] * order[3] >= 100\n",
        "    else order[2] * order[3] + 10), orders))\n",
        "\n",
        "# Print result\n",
        "print(invoice)\n"
      ],
      "metadata": {
        "colab": {
          "base_uri": "https://localhost:8080/"
        },
        "id": "F38CamudqrXt",
        "outputId": "14cffd16-0585-4a07-da43-6eaa932a1395"
      },
      "execution_count": null,
      "outputs": [
        {
          "output_type": "stream",
          "name": "stdout",
          "text": [
            "[(34587, 163.8), (98762, 284.0), (77226, 108.85000000000001), (88112, 84.97)]\n"
          ]
        }
      ]
    },
    {
      "cell_type": "markdown",
      "source": [
        "# What is the difference between a function and a method in Python?\n",
        "Ans:**Function**\n",
        " A function is a block of code that is defined using the def keyword and can be called independently.\n",
        "\n",
        "It is not associated with any object or class (unless defined inside a class).\n",
        "\n",
        "Can be built-in (like len(), print()) or user-defined.\n",
        "\n",
        "**Method**\n",
        "A method is a function that is associated with an object (usually an instance of a class).\n",
        "\n",
        "It is defined within a class and always takes self as its first parameter (for instance methods).\n",
        "\n",
        "Called using dot notation on an object.\n",
        "\n",
        "# Explain the concept of function arguments and parameters in Python\n",
        ">In Python, function arguments and parameters are two related but distinct concepts.\n",
        "Parameters are the variables defined in a function's definition. They specify the type and number of values a function expects to receive when it's called.\n",
        "Arguments, on the other hand, are the actual values passed to a function when it's called. These values are assigned to the function's parameters.\n",
        "\n",
        "#What are the different ways to define and call a function in Python?\n",
        ">\n",
        "1. Basic Function Definition:\n",
        "def greet():\n",
        "    print(\"Hello World\")\n",
        "2. Function With Parameters:\n",
        "def greet(name):\n",
        "    print(\"Hello,\", name)\n",
        "3.Function With a Return Value:\n",
        "def add(a, b):\n",
        "    return a + b\n",
        "\n",
        "#What is the purpose of the `return` statement in a Python function?\n",
        ">To produce an output from a function.\n",
        "\n",
        "To exit the function early, even before the last line is reached.\n",
        "\n",
        "To pass data back that can be used elsewhere in your program\n",
        "\n",
        "#. What are iterators in Python and how do they differ from iterables?\n",
        ">Iterables are objects that can be looped through, such as lists, tuples, dictionaries, and sets. They define an __iter__() method that returns an iterator object.\n",
        "\n",
        "Iterators, on the other hand, are objects that keep track of their position and yield values one at a time. They define both __iter__() and __next__() methods.\n",
        "\n",
        "# Explain the concept of generators in Python and how they are defined?\n",
        ">In Python, a generator is a special type of function that returns an iterator which produces a sequence of values one at a time, on demand, rather than computing and returning them all at once. This makes generators very memory-efficient and suitable for working with large or potentially infinite data streams.\n",
        "\n",
        "# What are the advantages of using generators over regular functions?\n",
        ">Memory Efficiency:\n",
        "Generators don’t store the entire sequence in memory.\n",
        "\n",
        "Lazy Evaluation:They compute values on-the-fly and only when requested, which makes them ideal for processing potentially infinite sequences or very large data where you don’t want to generate all values upfront.\n",
        "\n",
        "Maintain Internal State Automatically:\n",
        "Generators pause at each yield and resume right where they left off.\n",
        "This makes them great for managing complex data pipelines or sequences\n",
        "\n",
        "# What is a lambda function in Python and when is it typically used?\n",
        ">\n",
        "A lambda function, also known as an anonymous function, is a small, one-line function that can be defined inline within a larger expression. It's a shorthand way to create simple functions without declaring a named function with the def keyword.\n",
        "\n",
        ">Use Cases:\n",
        "          Sorting\n",
        "\n",
        "# Explain the purpose and usage of the `map()` function in Python.?\n",
        ">The purpose of the map() function in Python is to apply a specified function to each item in one or more iterables (like lists, tuples, or strings) and return an iterator (called a map object) that yields the results one by one. This allows you to efficiently transform all elements in the iterable(s) without using an explicit loop.\n",
        "\n",
        "#\n"
      ],
      "metadata": {
        "id": "A6m8_wI46c3B"
      }
    }
  ]
}