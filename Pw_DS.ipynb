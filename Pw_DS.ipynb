{
  "nbformat": 4,
  "nbformat_minor": 0,
  "metadata": {
    "colab": {
      "provenance": []
    },
    "kernelspec": {
      "name": "python3",
      "display_name": "Python 3"
    },
    "language_info": {
      "name": "python"
    }
  },
  "cells": [
    {
      "cell_type": "markdown",
      "source": [
        "**1. What are data structures, and why are they important.**\n",
        " Ans: A data structure is a specialized way of organizing, storing, and managing data in a computer so that it can be accessed and modified efficiently. Data structures define not just how the data is arranged in memory, but also how it can be processed and used by algorithms and computer programs.\n",
        "\n",
        "**Importance:**\n",
        "\n",
        "**Efficiency**: They enable fast and efficient storage, retrieval, and modification of data, which is crucial for high-performance algorithms and software. Choosing the right data structure can significantly improve the speed and responsiveness of an application.\n",
        "\n",
        "**Organization:** They offer organized methods to store large amounts of data, making it easier to navigate, manage, and manipulate information.\n",
        "\n",
        "**Problem-Solving:** Many real-world computational problems are easier to solve by selecting an appropriate data structure, such as efficiently searching, sorting, or modifying data sets.\n",
        "\n",
        "**Scalability**: Well-designed data structures help systems manage increasing volumes of data without significant drops in performance or maintainability.\n",
        "\n",
        "**Software Design:** They are fundamental to constructing clear, reusable, and maintainable code. Many programming languages provide built-in support and libraries for using advanced data structures, which helps developers create robust software more quickly.\n",
        "\n",
        "**Real-World Applications:** Data structures are the backbone of databases, operating systems, web search engines, computer graphics, network routing, machine learning, and almost every significant area of computing.\n",
        "\n",
        "# 2. Explain the difference between mutable and immutable data types with examples\n",
        "\n",
        "Ans:\n",
        "Mutable data types can be changed after they are created—meaning you can modify, add, or remove elements or values without having to create a new object.\n",
        "\n",
        "Exp:List, set, dict.\n",
        "\n",
        "Immutable data types cannot be changed after their creation. Any operation that tries to modify them results in the creation of a new object, leaving the original unchanged.\n",
        "\n",
        "Exp: tupple, str.\n",
        "\n",
        "\n",
        "# What are the main differences between lists and tuples in Python?\n",
        "\n",
        "List:Mutable: can be modified after creation.\n",
        "     Defined using square brackets [].\n",
        "     Consumes more memory.\n",
        "    \n",
        "Tupples:Immutable: cannot be changed after creation.\n",
        "        Defined using parentheses ().\n",
        "        Consumes less memory.\n",
        "\n",
        "# Describe how dictionaries store data.\n",
        "person = {\n",
        "    \"name\": \"Alice\",\n",
        "    \"age\": 30,\n",
        "    \"city\": \"New York\"\n",
        "}\n",
        "\n",
        "# Why might you use a set instead of a list in Python?\n",
        "1.Automatically eliminate duplicate values: Sets only store unique elements, so adding duplicate items has no effect. This makes sets ideal for deduplication tasks.\n",
        "\n",
        "2.Test membership efficiently: Sets use hashing to provide much faster membership checks (in operator) compared to lists, especially for large collections.\n",
        "\n",
        "3.Perform mathematical set operations: Sets support efficient union, intersection, and difference operations, useful for comparing and combining collections\n",
        "\n",
        "# How do tuples ensure data integrity in Python\n",
        "Tuples ensure data integrity in Python primarily through their immutability. Once a tuple is created, its contents cannot be changed, added to, or removed—any attempt to modify a tuple will result in an error. That's how tupples ensure data intigrity in python by not changing.\n",
        "\n",
        "# What is a hash table, and how does it relate to dictionaries in Python?\n",
        "Ans: A hash table (also known as a hash map) is a data structure that stores key-value pairs in an array using a hash function to map keys to indices. It allows for efficient lookup, insertion, and deletion of elements.\n",
        "In Python, dictionaries are implemented using hash tables. When you create a dictionary and add key-value pairs, Python uses a hash function to convert the key into an index of the underlying array.\n",
        "\n",
        "# Can lists contain different data types in Python?\n",
        "Ans: Yes,lists in Python can contain different data types.\n",
        "\n",
        "# Explain why strings are immutable in Python?\n",
        "Ans: Benefits of Immutable Strings-\n",
        "Security: Immutable strings help prevent buffer overflow attacks, where an attacker tries to modify a string's contents to execute malicious code. With immutable strings, any attempt to modify a string will result in a new string being created, rather than modifying the original string.\n",
        "\n",
        "Thread Safety: Immutable strings are thread-safe, as multiple threads can access the same string without worrying about one thread modifying the string and affecting other threads.\n",
        "\n",
        "Hashability: Immutable strings can be used as keys in dictionaries, as their hash value remains constant. If strings were mutable, their hash value could change after insertion into a dictionary, leading to unexpected behavior.\n",
        "\n",
        "Performance: Immutable strings allow Python to optimize string operations, such as interning (reusing existing string objects for identical strings). This can improve performance by reducing memory allocation and garbage collection.\n",
        "\n",
        "#What advantages do dictionaries offer over lists for certain tasks?\n",
        "Ans:\n",
        "\n",
        "*   Fast Lookups\n",
        "*   Key-Value Pairs\n",
        "*   Efficient Data Retrieval\n",
        "*   Flexible Data Structure\n",
        "*   Improved Code Readability\n",
        "\n",
        "# Describe a scenario where using a tuple would be preferable over a list?\n",
        "Ans: A tuple is preferable over a list in scenarios where you need to ensure that data remains constant and unchangeable throughout the program. For example, if you are storing a fixed set of configuration parameters, geographic coordinates (latitude, longitude), or dates, using a tuple prevents accidental modification and preserves data integrity.\n",
        "\n",
        "#How do sets handle duplicate values in Python?\n",
        "Ans:In Python, sets are an unordered collection of unique elements. When you add elements to a set, Python automatically removes any duplicates.\n",
        "exp: my_set = {1, 2, 2, 3}\n",
        "print(my_set)  \n",
        "# Output: {1, 2, 3}\n",
        "\n",
        "# How does the “in” keyword work differently for lists and dictionaries/\n",
        "Ans: \"in\" keyword use in list for checking values, whether its there or not.\n",
        "     \"in\" keywords in dict is for checking the key.\n",
        "\n",
        "# Can you modify the elements of a tuple? Explain why or why not?\n",
        "Ans: No, you cannot modify the elements of a tuple in Python. Tuples are immutable, which means that once they are created, their elements cannot be changed, added, or removed. If you attempt to assign a new value to an element of a tuple, Python will raise a TypeError, indicating that the object does not support item assignmen.\n",
        "\n",
        "*The immutability of tuples ensures their data remains fixed throughout the program, which protects against accidental changes and promotes data integrity.\n",
        "\n",
        "#What is a nested dictionary, and give an example of its use case?\n",
        "Ans: A nested dictionary is a dictionary that contains another dictionary as its value. This allows for more complex data structures, where you can store and access data in a hierarchical manner.\n",
        "\n",
        "Exp: person = {\"name\": \"John\",\"age\": 30,\"address\": {\"street\":\"123 Main St\", \"city\": \"New York\", \"state\": \"NY\", \"zip\": \"10001\"}}\n",
        "\n"
      ],
      "metadata": {
        "id": "SR-xHIrQKRSe"
      }
    },
    {
      "cell_type": "code",
      "source": [
        "my_name = input()\n",
        "print(f' my naame is {my_name}')"
      ],
      "metadata": {
        "colab": {
          "base_uri": "https://localhost:8080/"
        },
        "id": "YV4hgTZdMK4F",
        "outputId": "ea675b6a-e32c-4e17-ec10-3c8675e202a2"
      },
      "execution_count": 6,
      "outputs": [
        {
          "output_type": "stream",
          "name": "stdout",
          "text": [
            "raj\n",
            " my naame is raj\n"
          ]
        }
      ]
    },
    {
      "cell_type": "code",
      "source": [
        "#Write a code to find the length of the string \"Hello World\"\n",
        "a=\"Hello world\"\n",
        "len(a)"
      ],
      "metadata": {
        "colab": {
          "base_uri": "https://localhost:8080/"
        },
        "id": "QJseb42s2IiT",
        "outputId": "a8a8461a-4d83-4327-ed0e-6bc98921cf00"
      },
      "execution_count": 7,
      "outputs": [
        {
          "output_type": "execute_result",
          "data": {
            "text/plain": [
              "11"
            ]
          },
          "metadata": {},
          "execution_count": 7
        }
      ]
    },
    {
      "cell_type": "code",
      "source": [
        "# Write a code to slice the first 3 characters from the string \"Python Programming\"\n",
        "a = \"Python Programming\"\n",
        "slice_result = a[:3]\n",
        "print(slice_result)\n"
      ],
      "metadata": {
        "colab": {
          "base_uri": "https://localhost:8080/"
        },
        "id": "tjMGxJXE2hLt",
        "outputId": "a23f71c4-9d33-49ce-cd08-8c393df6e4aa"
      },
      "execution_count": 8,
      "outputs": [
        {
          "output_type": "stream",
          "name": "stdout",
          "text": [
            "Pyt\n"
          ]
        }
      ]
    },
    {
      "cell_type": "code",
      "source": [
        "# Write a code to convert the string \"hello\" to uppercase\n",
        "t = \"hello\"\n",
        "upper_text = t.upper()\n",
        "print(upper_text)\n"
      ],
      "metadata": {
        "colab": {
          "base_uri": "https://localhost:8080/"
        },
        "id": "C9qRhiXJ32Bz",
        "outputId": "b1d5327e-f834-4f72-9b89-0125f0233cc4"
      },
      "execution_count": 10,
      "outputs": [
        {
          "output_type": "stream",
          "name": "stdout",
          "text": [
            "HELLO\n"
          ]
        }
      ]
    },
    {
      "cell_type": "code",
      "source": [
        "# Write a code to replace the word \"apple\" with \"orange\" in the string \"I like apple\"\n",
        "a = \"I like apple\"\n",
        "a = a.replace(\"apple\",\"orange\")\n",
        "print(a)"
      ],
      "metadata": {
        "colab": {
          "base_uri": "https://localhost:8080/"
        },
        "id": "DmnOmHOq5d3q",
        "outputId": "f65acbcf-a057-4dbb-f47a-19827ab67d93"
      },
      "execution_count": 16,
      "outputs": [
        {
          "output_type": "stream",
          "name": "stdout",
          "text": [
            "I like orange\n"
          ]
        }
      ]
    },
    {
      "cell_type": "code",
      "source": [
        "# prompt: Write a code to create a list with numbers 1 to 5 and print it\n",
        "\n",
        "numbers = list(range(1, 6))\n",
        "print(numbers)\n"
      ],
      "metadata": {
        "colab": {
          "base_uri": "https://localhost:8080/"
        },
        "id": "P-3Oc4l16mRn",
        "outputId": "418fd8ce-7394-47bb-e41a-585dfc36030f"
      },
      "execution_count": 19,
      "outputs": [
        {
          "output_type": "stream",
          "name": "stdout",
          "text": [
            "[1, 2, 3, 4, 5]\n"
          ]
        }
      ]
    },
    {
      "cell_type": "code",
      "source": [
        "# Write a code to append the number 10 to the list [1, 2, 3, 4]\n",
        "l = [1, 2, 3, 4]\n",
        "l.append(10)\n",
        "print(l)"
      ],
      "metadata": {
        "colab": {
          "base_uri": "https://localhost:8080/"
        },
        "id": "0pVFoZ6s7Rzm",
        "outputId": "76fa3a21-d9da-4a6c-9872-f869c47ef91a"
      },
      "execution_count": 20,
      "outputs": [
        {
          "output_type": "stream",
          "name": "stdout",
          "text": [
            "[1, 2, 3, 4, 10]\n"
          ]
        }
      ]
    },
    {
      "cell_type": "code",
      "source": [
        "# Write a code to remove the number 3 from the list [1, 2, 3, 4, 5]\n",
        "l = [1, 2, 3, 4, 5]\n",
        "l.pop(3)\n",
        "print(l)\n"
      ],
      "metadata": {
        "colab": {
          "base_uri": "https://localhost:8080/"
        },
        "id": "NX4vphcs7hnb",
        "outputId": "bdcd4930-1185-4ec8-e026-cc9aea4d6d8c"
      },
      "execution_count": 21,
      "outputs": [
        {
          "output_type": "stream",
          "name": "stdout",
          "text": [
            "[1, 2, 3, 5]\n"
          ]
        }
      ]
    },
    {
      "cell_type": "code",
      "source": [
        "# Write a code to access the second element in the list ['a', 'b', 'c', 'd']\n",
        "l = ['9', '2', '4', '5']\n",
        "second_element = l[1]\n",
        "print(second_element)"
      ],
      "metadata": {
        "colab": {
          "base_uri": "https://localhost:8080/"
        },
        "id": "0_FANP1W7K-3",
        "outputId": "a20fcb30-784a-4c41-c541-b58090d9e126"
      },
      "execution_count": 2,
      "outputs": [
        {
          "output_type": "stream",
          "name": "stdout",
          "text": [
            "2\n"
          ]
        }
      ]
    },
    {
      "cell_type": "code",
      "source": [
        "# Write a code to reverse the list [10, 20, 30, 40, 50]\n",
        "l = [10, 20, 30, 40, 50]\n",
        "l = l[::-1]\n",
        "print(l)"
      ],
      "metadata": {
        "colab": {
          "base_uri": "https://localhost:8080/"
        },
        "id": "B7VVd3hFOHOf",
        "outputId": "9c1eb0d2-5d90-47e1-ec1b-851e4bd5b37b"
      },
      "execution_count": 5,
      "outputs": [
        {
          "output_type": "stream",
          "name": "stdout",
          "text": [
            "[50, 40, 30, 20, 10]\n"
          ]
        }
      ]
    },
    {
      "cell_type": "code",
      "source": [
        "#Write a code to create a tuple with the elements 100, 200, 300 and print it\n",
        "t = (100, 200, 300)\n",
        "print(t)\n",
        "type(t)"
      ],
      "metadata": {
        "colab": {
          "base_uri": "https://localhost:8080/"
        },
        "id": "3Z7kEUbLUvQ3",
        "outputId": "a7e379e0-b074-448d-fc8b-efea74d60ba9"
      },
      "execution_count": 12,
      "outputs": [
        {
          "output_type": "stream",
          "name": "stdout",
          "text": [
            "(100, 200, 300)\n"
          ]
        },
        {
          "output_type": "execute_result",
          "data": {
            "text/plain": [
              "tuple"
            ]
          },
          "metadata": {},
          "execution_count": 12
        }
      ]
    },
    {
      "cell_type": "code",
      "source": [
        "# Write a code to access the second-to-last element of the tuple ('red', 'green', 'blue', 'yellow')\n",
        "t = ('red', 'green', 'blue', 'yellow')\n",
        "a = t[-2]\n",
        "print(a)"
      ],
      "metadata": {
        "colab": {
          "base_uri": "https://localhost:8080/"
        },
        "id": "d76PwDgUVdnY",
        "outputId": "31dd9bdf-07d5-4631-c56a-4f1c60341f77"
      },
      "execution_count": 13,
      "outputs": [
        {
          "output_type": "stream",
          "name": "stdout",
          "text": [
            "blue\n"
          ]
        }
      ]
    },
    {
      "cell_type": "code",
      "source": [
        "# 13. Write a code to find the minimum number in the tuple (10, 20, 5, 15).\n",
        "a = (10, 20, 5, 15)\n",
        "m = min(a)\n",
        "print(m)"
      ],
      "metadata": {
        "colab": {
          "base_uri": "https://localhost:8080/"
        },
        "id": "Mg661V0RV7S5",
        "outputId": "96493686-5698-44b3-fc49-2202b879a133"
      },
      "execution_count": 14,
      "outputs": [
        {
          "output_type": "stream",
          "name": "stdout",
          "text": [
            "5\n"
          ]
        }
      ]
    },
    {
      "cell_type": "code",
      "source": [
        "#. Write a code to find the index of the element \"cat\" in the tuple ('dog', 'cat', 'rabbit').\n",
        "t = ('dog', 'cat', 'rabbit')\n",
        "a = t.index('cat')\n",
        "print(a)"
      ],
      "metadata": {
        "colab": {
          "base_uri": "https://localhost:8080/"
        },
        "id": "QfR4kYFhWdl4",
        "outputId": "0286f79f-c05e-4e77-9055-bb55942cc97f"
      },
      "execution_count": 15,
      "outputs": [
        {
          "output_type": "stream",
          "name": "stdout",
          "text": [
            "1\n"
          ]
        }
      ]
    },
    {
      "cell_type": "code",
      "source": [
        "#. Write a code to create a tuple containing three different fruits and check if \"kiwi\" is in it.\n",
        "t = ('apple', 'banana', 'orange')\n",
        "a = 'kiwi' in t\n",
        "print(a)\n",
        "if a==True:\n",
        "    print(\"kiwi is in the tuple\")\n",
        "else:\n",
        "    print(\"kiwi is not in the tuple\")"
      ],
      "metadata": {
        "colab": {
          "base_uri": "https://localhost:8080/"
        },
        "id": "ePh4oo6mWt0K",
        "outputId": "1664bde9-496c-4144-a893-630ba2ca0535"
      },
      "execution_count": 17,
      "outputs": [
        {
          "output_type": "stream",
          "name": "stdout",
          "text": [
            "False\n",
            "kiwi is not in the tuple\n"
          ]
        }
      ]
    },
    {
      "cell_type": "code",
      "source": [
        "# Write a code to create a set with the elements 'a', 'b', 'c' and print it\n",
        "my_set = {'a', 'b', '1', 'ram', True, (1,2,3)}\n",
        "print(my_set)"
      ],
      "metadata": {
        "colab": {
          "base_uri": "https://localhost:8080/"
        },
        "id": "S0aUvFDlXaAG",
        "outputId": "814cb437-b9fd-47cc-b13b-8aea8abdf466"
      },
      "execution_count": 20,
      "outputs": [
        {
          "output_type": "stream",
          "name": "stdout",
          "text": [
            "{True, 'a', (1, 2, 3), '1', 'ram', 'b'}\n"
          ]
        }
      ]
    },
    {
      "cell_type": "code",
      "source": [
        "# Write a code to clear all elements from the set {1, 2, 3, 4, 5}.\n",
        "a = {1, 2, 3, 4, 5}\n",
        "a.clear()\n",
        "print(a)\n"
      ],
      "metadata": {
        "colab": {
          "base_uri": "https://localhost:8080/"
        },
        "id": "gypyFqxxXPJg",
        "outputId": "958cddb6-4c0d-494b-af1f-77233e1711c9"
      },
      "execution_count": 25,
      "outputs": [
        {
          "output_type": "stream",
          "name": "stdout",
          "text": [
            "set()\n"
          ]
        }
      ]
    },
    {
      "cell_type": "code",
      "source": [
        "#Write a code to remove the element 4 from the set {1, 2, 3, 4}.\n",
        "a = {1, 2, 3, 4}\n",
        "a.remove(4)\n",
        "print(a)"
      ],
      "metadata": {
        "colab": {
          "base_uri": "https://localhost:8080/"
        },
        "id": "9zlXnyggZCf9",
        "outputId": "a61ab3eb-5bf9-481d-8017-d993b60fb19c"
      },
      "execution_count": 26,
      "outputs": [
        {
          "output_type": "stream",
          "name": "stdout",
          "text": [
            "{1, 2, 3}\n"
          ]
        }
      ]
    },
    {
      "cell_type": "code",
      "source": [
        "#Write a code to find the union of two sets {1, 2, 3} and {3, 4, 5}.\n",
        "a = {1, 2, 3}\n",
        "b = {3, 4, 5}\n",
        "c = a.union(b)\n",
        "print(c)"
      ],
      "metadata": {
        "colab": {
          "base_uri": "https://localhost:8080/"
        },
        "id": "4K704M5KZWh1",
        "outputId": "5fb358bc-0ee7-4ad9-c254-522877153bd7"
      },
      "execution_count": 29,
      "outputs": [
        {
          "output_type": "stream",
          "name": "stdout",
          "text": [
            "{1, 2, 3, 4, 5}\n"
          ]
        }
      ]
    },
    {
      "cell_type": "code",
      "source": [
        "#0. Write a code to find the intersection of two sets {1, 2, 3} and {2, 3, 4}\n",
        "a = {1, 2, 3}\n",
        "b = {2, 3, 4}\n",
        "c = a.intersection(b)\n",
        "print(c)\n"
      ],
      "metadata": {
        "colab": {
          "base_uri": "https://localhost:8080/"
        },
        "id": "MxStQdBcZ3Ha",
        "outputId": "30e810ab-e669-4b5b-83f4-2afdc7a1a17a"
      },
      "execution_count": 30,
      "outputs": [
        {
          "output_type": "stream",
          "name": "stdout",
          "text": [
            "{2, 3}\n"
          ]
        }
      ]
    },
    {
      "cell_type": "code",
      "source": [
        "a = (1, 2, 3)\n",
        "b = (3, 4, 5)\n",
        "c = a + b\n",
        "print(c)"
      ],
      "metadata": {
        "id": "x0Ydun7EZm2i"
      },
      "execution_count": null,
      "outputs": []
    },
    {
      "cell_type": "code",
      "source": [
        "# Write a code to create a dictionary with the keys \"name\", \"age\", and \"city\", and print it.\n",
        "my_dict = {\"name\": \"raj\",\"age\": 22, \"city\": \"Kolkata\"}\n",
        "print(my_dict)"
      ],
      "metadata": {
        "colab": {
          "base_uri": "https://localhost:8080/"
        },
        "id": "YcJyVpqqZ1Rd",
        "outputId": "5443189d-079e-430b-824a-60196eff6847"
      },
      "execution_count": 2,
      "outputs": [
        {
          "output_type": "stream",
          "name": "stdout",
          "text": [
            "{'name': 'raj', 'age': 22, 'city': 'Kolkata'}\n"
          ]
        }
      ]
    },
    {
      "cell_type": "code",
      "source": [
        "# Write a code to add a new key-value pair \"country\": \"USA\" to the dictionary {'name': 'John', 'age': 25}.\n",
        "my_dict = {'name': 'John', 'age': 25}\n",
        "my_dict['country'] = 'USA'\n",
        "print(my_dict)\n",
        "\n"
      ],
      "metadata": {
        "colab": {
          "base_uri": "https://localhost:8080/"
        },
        "id": "f_IR_rBJCrU9",
        "outputId": "b5a72151-4c5e-452a-d460-36924a4d8ebb"
      },
      "execution_count": 4,
      "outputs": [
        {
          "output_type": "stream",
          "name": "stdout",
          "text": [
            "{'name': 'John', 'age': 25, 'country': 'USA'}\n"
          ]
        }
      ]
    },
    {
      "cell_type": "code",
      "source": [
        "#. Write a code to access the value associated with the key \"name\" in the dictionary {'name': 'Alice', 'age': 30}.\n",
        "my_dict = {'name': 'Alice', 'age': 30}\n",
        "a = my_dict['name']\n",
        "print(a)"
      ],
      "metadata": {
        "colab": {
          "base_uri": "https://localhost:8080/"
        },
        "id": "jH6gGb3RDBbb",
        "outputId": "e07ae010-b5df-41a0-e066-c12e74140efd"
      },
      "execution_count": 5,
      "outputs": [
        {
          "output_type": "stream",
          "name": "stdout",
          "text": [
            "Alice\n"
          ]
        }
      ]
    },
    {
      "cell_type": "code",
      "source": [
        "#Write a code to remove the key \"age\" from the dictionary {'name': 'Bob', 'age': 22, 'city': 'New York'}\n",
        "my_dict = {'name': 'Bob', 'age': 22, 'city': 'New York'}\n",
        "del my_dict['age']\n",
        "print(my_dict)"
      ],
      "metadata": {
        "colab": {
          "base_uri": "https://localhost:8080/"
        },
        "id": "M6REBt6nDKGQ",
        "outputId": "4340d939-5c47-433d-e8db-a7757c13ad69"
      },
      "execution_count": 6,
      "outputs": [
        {
          "output_type": "stream",
          "name": "stdout",
          "text": [
            "{'name': 'Bob', 'city': 'New York'}\n"
          ]
        }
      ]
    },
    {
      "cell_type": "code",
      "source": [
        "#Write a code to check if the key \"city\" exists in the dictionary {'name': 'Alice', 'city': 'Paris'}.\n",
        "my_dict = {'name': 'Alice', 'city': 'Paris'}\n",
        "a = 'city' in my_dict\n",
        "print(a)"
      ],
      "metadata": {
        "colab": {
          "base_uri": "https://localhost:8080/"
        },
        "id": "TZkFOeKFEGgz",
        "outputId": "2aa1b7d5-393b-493d-cd14-0ff5e7546fb3"
      },
      "execution_count": 9,
      "outputs": [
        {
          "output_type": "stream",
          "name": "stdout",
          "text": [
            "True\n"
          ]
        }
      ]
    },
    {
      "cell_type": "code",
      "source": [
        "# Write a code to create a list, a tuple, and a dictionary, and print them all.\n",
        "my_list = [1, 2, 3, 4, 5]\n",
        "my_tuple = (10, 20, 30, 40, 50)\n",
        "my_dict= {1: 'raj', 2: '22', 3: 'Kolkata '}\n",
        "\n",
        "print(my_list)\n",
        "print( my_tuple)\n",
        "print( my_dict)"
      ],
      "metadata": {
        "colab": {
          "base_uri": "https://localhost:8080/"
        },
        "id": "zHfV9SZBEw4l",
        "outputId": "9e5deb4a-298e-466f-c466-38064faa021e"
      },
      "execution_count": 11,
      "outputs": [
        {
          "output_type": "stream",
          "name": "stdout",
          "text": [
            "[1, 2, 3, 4, 5]\n",
            "(10, 20, 30, 40, 50)\n",
            "{1: 'raj', 2: '22', 3: 'Kolkata '}\n"
          ]
        }
      ]
    },
    {
      "cell_type": "code",
      "source": [
        "# Write a code to create a list of 5 random numbers between 1 and 100, sort it in ascending order, and print the result.(replaced)\n",
        "a=[10, 50, 20, 13, 55]\n",
        "a.sort()\n",
        "print(a)\n"
      ],
      "metadata": {
        "colab": {
          "base_uri": "https://localhost:8080/"
        },
        "id": "9YsMKCQ5FHZR",
        "outputId": "147ac9ca-dd29-4e52-ec1f-a26050b4a59c"
      },
      "execution_count": 15,
      "outputs": [
        {
          "output_type": "stream",
          "name": "stdout",
          "text": [
            "[10, 13, 20, 50, 55]\n"
          ]
        }
      ]
    },
    {
      "cell_type": "code",
      "source": [
        "#Write a code to create a list with strings and print the element at the third index\n",
        "l = ['apple', 'banana', 'orange', 'grape', 'kiwi']\n",
        "a= l[2]\n",
        "print(a)"
      ],
      "metadata": {
        "colab": {
          "base_uri": "https://localhost:8080/"
        },
        "id": "bL8y8VWNL3-d",
        "outputId": "a554da53-38f3-406c-cb6f-fdde634576ea"
      },
      "execution_count": 17,
      "outputs": [
        {
          "output_type": "stream",
          "name": "stdout",
          "text": [
            "orange\n"
          ]
        }
      ]
    },
    {
      "cell_type": "code",
      "source": [
        "# Write a code to combine two dictionaries into one and print the result.\n",
        "dict1 = {'a': 1, 'b': 2}\n",
        "dict2 = {'c': 3, 'd': 4}\n",
        "dict2.update(dict1)\n",
        "print(dict2)"
      ],
      "metadata": {
        "colab": {
          "base_uri": "https://localhost:8080/"
        },
        "id": "L7MJKk_9NZP2",
        "outputId": "9bc23a4d-e340-4d66-94a8-561fddee2961"
      },
      "execution_count": 19,
      "outputs": [
        {
          "output_type": "stream",
          "name": "stdout",
          "text": [
            "{'c': 3, 'd': 4, 'a': 1, 'b': 2}\n"
          ]
        }
      ]
    },
    {
      "cell_type": "code",
      "source": [
        "# Write a code to convert a list of strings into a set\n",
        "l = ['apple', 'banana', 'orange', 'grape', 'kiwi']\n",
        "a = set(l)\n",
        "print(a)\n",
        "type(a)"
      ],
      "metadata": {
        "colab": {
          "base_uri": "https://localhost:8080/"
        },
        "id": "Lj1r0Zadeyno",
        "outputId": "9b611208-4379-4ea3-d326-9e0755c739ac"
      },
      "execution_count": 21,
      "outputs": [
        {
          "output_type": "stream",
          "name": "stdout",
          "text": [
            "{'banana', 'grape', 'apple', 'kiwi', 'orange'}\n"
          ]
        },
        {
          "output_type": "execute_result",
          "data": {
            "text/plain": [
              "set"
            ]
          },
          "metadata": {},
          "execution_count": 21
        }
      ]
    },
    {
      "cell_type": "code",
      "source": [],
      "metadata": {
        "id": "OJ8mH0mS4_hg"
      },
      "execution_count": null,
      "outputs": []
    }
  ]
}